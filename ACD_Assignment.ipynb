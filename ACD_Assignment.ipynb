{
  "cells": [
    {
      "cell_type": "markdown",
      "metadata": {
        "id": "dBA4qStcHB2b"
      },
      "source": [
        "# Recommender System Evaluation\n",
        "\n",
        "### **Course**: Analysis of Customer Data  \n",
        "### **Date**: 23 May 2025  \n",
        "\n",
        "#### **Project Overview**\n",
        "- **Objective**: The objective of this project is to investigate and compare recommender system algorithms using the MovieLens dataset provided by GroupLens Research. Specifically, the aim is to configure, evaluate, and compare different models against a baseline to assess their predictive performance.\n",
        "\n",
        "- **Tools and Libraries**:\n",
        "    - Python\n",
        "    - NumPy  \n",
        "    - Surprise (Simple Python Recommendation System Engine)  \n",
        "    - Pandas  \n",
        "    - Matplotlib\n",
        "    - Seaborn\n",
        "\n",
        "#### **Final Models Used**\n",
        "\n",
        "- **NormalPredictor**: A baseline model that makes random predictions based on the distribution of ratings in the training set.\n",
        "- **KNNWithMeans**: A neighbourhood-based method that predicts ratings using the mean ratings of similar users. It applies Z-score normalisation to account for individual rating biases.\n",
        "- **SVD (Singular Value Decomposition)**: A matrix factorisation technique that captures latent user–item relationships for predicting missing ratings.\n",
        "\n",
        "#### **Evaluation Metric**\n",
        "\n",
        "- **Root Mean Squared Error (RMSE)**, computed using 5-fold cross-validation. This metric measures the average magnitude of the error between predicted and actual ratings, with lower values indicating better performance.\n"
      ]
    },
    {
      "cell_type": "markdown",
      "metadata": {
        "id": "g5CoBZHilyc1"
      },
      "source": [
        "#  STEP 1: IMPORT NECESSARY LIBRARIES"
      ]
    },
    {
      "cell_type": "code",
      "execution_count": null,
      "metadata": {
        "id": "6o-m8ABcHB2d"
      },
      "outputs": [],
      "source": [
        "# Importing standard libraries for data manipulation and visualisation\n",
        "import pandas as pd\n",
        "import numpy as np\n",
        "import matplotlib.pyplot as plt\n",
        "import seaborn as sns\n",
        "\n",
        "# Set seaborn style for clean plots\n",
        "sns.set(style='whitegrid', context='paper', font_scale=1.6, rc={\"lines.linewidth\": 2})\n",
        "\n",
        "# Surprise library: for collaborative filtering models and evaluation\n",
        "from surprise import Dataset, Reader\n",
        "from surprise import accuracy\n",
        "\n",
        "# Neighbourhood-based collaborative filtering models\n",
        "from surprise import NormalPredictor\n",
        "from surprise import KNNWithMeans, KNNWithZScore, KNNBasic, KNNBaseline\n",
        "\n",
        "# Matrix factorisation-based models\n",
        "from surprise import SVD, SVDpp, NMF\n",
        "\n",
        "# Model selection and evaluation tools\n",
        "from surprise.model_selection import cross_validate, KFold, GridSearchCV\n"
      ]
    },
    {
      "cell_type": "markdown",
      "metadata": {
        "id": "sVmQfMoqmGNS"
      },
      "source": [
        "# STEP 2: LOAD DATA"
      ]
    },
    {
      "cell_type": "code",
      "execution_count": null,
      "metadata": {
        "id": "DJt1dRQ1HB2f"
      },
      "outputs": [],
      "source": [
        "# Load the original MovieLens ratings dataset\n",
        "df_original = pd.read_csv(\"MovieLens-Ratings.csv\")\n",
        "\n",
        "# Create a working copy to preserve the original dataset\n",
        "df = df_original.copy()\n"
      ]
    },
    {
      "cell_type": "markdown",
      "metadata": {
        "id": "qD8N2KGCn1BU"
      },
      "source": [
        "# STEP 3: STATISTICS"
      ]
    },
    {
      "cell_type": "markdown",
      "metadata": {
        "id": "hgW5X8qNtLDC"
      },
      "source": [
        "To better understand the dataset, we first started with some basic statistics.\n",
        "The 'timestamp' column (which indicates when a rating was given) was removed, since the temporal information is not required for the recommender models here.\n",
        "The focus in our final dataset will be on \"userId\", \"movieId\", and \"rating\"."
      ]
    },
    {
      "cell_type": "code",
      "execution_count": null,
      "metadata": {
        "id": "xNQtv8ifHB2h",
        "outputId": "e3ed239a-0648-496c-c299-9a9e2877fee0"
      },
      "outputs": [
        {
          "name": "stdout",
          "output_type": "stream",
          "text": [
            "First few rows of the dataset:\n",
            "   userId  movieId  rating   timestamp\n",
            "0       1      307     3.5  1256677221\n",
            "1       1      481     3.5  1256677456\n",
            "2       1     1091     1.5  1256677471\n",
            "3       1     1257     4.5  1256677460\n",
            "4       1     1449     4.5  1256677264\n",
            "Dataset shape: (27753444, 3)\n",
            "Percent of missing values: 0.0\n",
            "Rating range:  0.5 - 5.0\n",
            "\n",
            "Number of unique users: 283228\n",
            "Number of unique movies: 53889\n",
            "Average rating: 3.5304452124932677\n",
            "Ratings per user (avg): 97.98976089934611\n",
            "             userId       movieId        rating\n",
            "count  2.775344e+07  2.775344e+07  2.775344e+07\n",
            "mean   1.419420e+05  1.848800e+04  3.530445e+00\n",
            "std    8.170740e+04  3.510263e+04  1.066353e+00\n",
            "min    1.000000e+00  1.000000e+00  5.000000e-01\n",
            "25%    7.117600e+04  1.097000e+03  3.000000e+00\n",
            "50%    1.420220e+05  2.716000e+03  3.500000e+00\n",
            "75%    2.124590e+05  7.150000e+03  4.000000e+00\n",
            "max    2.832280e+05  1.938860e+05  5.000000e+00\n"
          ]
        }
      ],
      "source": [
        "# Show the first few rows of the dataset\n",
        "print(\"First few rows of the dataset:\")\n",
        "print(df.head())\n",
        "\n",
        "# Remove the 'timestamp' column as it is not needed\n",
        "df.drop(columns=['timestamp'], inplace=True)\n",
        "\n",
        "# Print dataset shape (rows, columns)\n",
        "print(\"Dataset shape:\", df.shape)\n",
        "\n",
        "# Check percentage of missing values in the dataset\n",
        "print(\"Percent of missing values:\", df.isnull().sum().sum() * 100 / len(df))\n",
        "\n",
        "# Display the range of ratings\n",
        "print(\"Rating range: \", df['rating'].min(), \"-\", df['rating'].max())\n",
        "\n",
        "# Count the number of unique users and unique movies\n",
        "print(\"\\nNumber of unique users:\", df['userId'].nunique())\n",
        "print(\"Number of unique movies:\", df['movieId'].nunique())\n",
        "\n",
        "# Calculate average rating and average number of ratings per user\n",
        "print(\"Average rating:\", df['rating'].mean())\n",
        "print(\"Ratings per user (avg):\", df.groupby('userId')['rating'].count().mean())\n",
        "\n",
        "# Show summary statistics for numerical columns\n",
        "print(df.describe())"
      ]
    },
    {
      "cell_type": "markdown",
      "metadata": {
        "id": "nAGn8kA7oj5v"
      },
      "source": [
        "# STEP 4: PREPROCESSING\n",
        "## Step 4.1 Rating Distribution"
      ]
    },
    {
      "cell_type": "markdown",
      "metadata": {
        "id": "fWpeRiQDfLLo"
      },
      "source": [
        "After examining some basic statistics, we explored the distribution of ratings in the dataset to identify patterns that might further help us with the preprocessing decisions.\n",
        "\n",
        "We used bins=10 to ensure the ratings are grouped effectively and distinguishable."
      ]
    },
    {
      "cell_type": "code",
      "execution_count": null,
      "metadata": {
        "colab": {
          "base_uri": "https://localhost:8080/",
          "height": 487
        },
        "id": "63_a8ld4otdP",
        "outputId": "d4d0ebd0-7034-46a4-9f5d-68c0a34baaee"
      },
      "outputs": [
        {
          "data": {
            "image/png": "[encoded data removed]",
            "text/plain": [
              "<Figure size 800x500 with 1 Axes>"
            ]
          },
          "metadata": {},
          "output_type": "display_data"
        }
      ],
      "source": [
        "# Plot rating distirbution\n",
        "plt.figure(figsize=(8, 5))\n",
        "sns.histplot(df['rating'], bins=10)\n",
        "\n",
        "# Set title & labels\n",
        "plt.title('Rating Distribution')\n",
        "plt.xlabel('Rating')\n",
        "plt.ylabel('Frequency')\n",
        "\n",
        "# Show plot\n",
        "plt.show()\n"
      ]
    },
    {
      "cell_type": "markdown",
      "metadata": {
        "id": "E8MwDP7lfLLo"
      },
      "source": [
        "The histogram shows that rating 4 is the most frequent, followed by rating 5, while lower ratings (1 and 2) are less common. This suggests a positive bias in user ratings, where most individuals tend to rate movies favourably.\n",
        "\n",
        "Based on this observation, we decided upon applying mean-centering normalisation to correct for user-specific rating tendencies in our neighbourhood-based model. This adjustment allows for fairer comparisons between users who tend to rate generously and those with stricter rating habits when calculating similarities. Without normalisaiton, similarity computations may be skewed, potentially making users appear more similar than they truly are. Mena-centering helps mitigate this issue by adjusting individual ratings relative to each user's average preference, which makes similarity measure more meaningful.\n",
        "\n",
        "On the other hand, normalisation is unnecessary for our matrix factorisation model. These models inherently learn user biases through latent factor modeling. The model captures patterns in user preferences and adjusts recommendations accordingly, and hence explicit normalisation is not required. The model naturally identifies and compensates for rating biases through its internal learning process.\n",
        "\n",
        "Thus, we will normalise ratings in the KNN-based model to improve similarity calculations while allowing SVD to handle biases naturally through its internal learning process."
      ]
    },
    {
      "cell_type": "markdown",
      "metadata": {
        "id": "zdonbcegfLLp"
      },
      "source": [
        "## Step 4.2 User-Behaviours"
      ]
    },
    {
      "cell_type": "markdown",
      "metadata": {
        "id": "Rsyvups9HB2n"
      },
      "source": [
        "Next, we wanted to explore user behaviours in our dataset. Specifically, we examined user-specific rating patterns to understand how different users contribute to the ratings and how this might affect our recommendation models.\n",
        "\n",
        "We started by checking whether certain users rate movies more frequently than others. We also looked for duplicate ratings (users rating the same movie multiple times), identified users who only use extreme values (such as 1 or 5 stars), and evaluated the variance in user ratings to detect those with very consistent or highly variable preferences.\n",
        "\n",
        "Understanding these behaviours helps us filter the data to improve model performance and reduce bias.\n"
      ]
    },
    {
      "cell_type": "markdown",
      "metadata": {
        "id": "xGJr-HK7fLLp"
      },
      "source": [
        "### 4.2.1 Distribution of Ratings per User\n",
        "The following code groups the data by user and calculates the number of ratings and the mean rating for each user. We then inspect the distribution of these values."
      ]
    },
    {
      "cell_type": "code",
      "execution_count": null,
      "metadata": {
        "id": "vTD2zxpsHB2p",
        "outputId": "8fd37087-086a-4237-9f29-a7c0e26cd9db"
      },
      "outputs": [
        {
          "name": "stdout",
          "output_type": "stream",
          "text": [
            "User rating distribution summary:\n",
            "               count           mean\n",
            "count  283228.000000  283228.000000\n",
            "mean       97.989761       3.635359\n",
            "std       212.760722       0.582801\n",
            "min         1.000000       0.500000\n",
            "25%        15.000000       3.323529\n",
            "50%        30.000000       3.666667\n",
            "75%        95.000000       4.000000\n",
            "max     23715.000000       5.000000\n"
          ]
        },
        {
          "data": {
            "image/png": "[encoded data removed]",
            "text/plain": [
              "<Figure size 1000x500 with 1 Axes>"
            ]
          },
          "metadata": {},
          "output_type": "display_data"
        },
        {
          "name": "stdout",
          "output_type": "stream",
          "text": [
            "\n"
          ]
        },
        {
          "data": {
            "image/png": "[encoded data removed]",
            "text/plain": [
              "<Figure size 1000x500 with 1 Axes>"
            ]
          },
          "metadata": {},
          "output_type": "display_data"
        }
      ],
      "source": [
        "# Group by userId and calculate:\n",
        "# 1) 'count': how many ratings each user gave\n",
        "# 2) 'mean': average rating given by each user\n",
        "user_ratings = df.groupby('userId')['rating'].agg(['count', 'mean'])\n",
        "\n",
        "print(\"User rating distribution summary:\")\n",
        "print(user_ratings.describe())\n",
        "\n",
        "# Plot histogram for number of ratings per user\n",
        "plt.figure(figsize=(10, 5))\n",
        "sns.histplot(user_ratings['count'], bins=25, kde=True)\n",
        "plt.title(\"Distribution of Number of Ratings per User\")\n",
        "plt.xlabel(\"Number of Ratings\")\n",
        "plt.ylabel(\"Frequency\")\n",
        "plt.show()\n",
        "\n",
        "print()\n",
        "\n",
        "# Plot histogram for average rating per user\n",
        "plt.figure(figsize=(10, 5))\n",
        "sns.histplot(user_ratings['mean'], bins=25, kde=True)\n",
        "plt.title(\"Distribution of Average Ratings Given by Users\")\n",
        "plt.xlabel(\"Average Rating\")\n",
        "plt.ylabel(\"Frequency\")\n",
        "plt.show()\n"
      ]
    },
    {
      "cell_type": "markdown",
      "metadata": {
        "id": "m5a9Nb1tHB2q"
      },
      "source": [
        "Looking at the rating distribution summary, we observed that some users have rated only a handful of movies, while others have rated thousands. This imbalance suggests that a subset of highly active users contribute disproportionately, potentially influencing the dataset dynamics. Users who rate frequently have stronger representation, while those with fewer interactions have less impact.\n",
        "\n",
        "Additionally, the mean rating per user (3.64) is slightly higher than the overall dataset mean (3.53), suggesting some skewness in rating behaviour. The presence of extremely active users (maximum ratings per user: 23,715) indicates that certain users may dominate similarity calculations, especially in methods relying on user-based comparisons. Their impact on the models is also significant:\n",
        "\n",
        "- First, in **KNN-based models**, highly active users dominate similarity calculations, which causes neighbour selection to skew towards their preferences. Filtering out these users ensures that similarity calculations reflect a balanced user base rather than being driven by extreme rating behaviours.\n",
        "- Second, in **matrix factorization models**, latent factors may be biased toward users with excessive interactions, over-representing their preferences and limiting the model’s ability to generalise. Filtering users who contribute an extreme amount of data reduces overfitting, allowing these models to better capture broader patterns.\n"
      ]
    },
    {
      "cell_type": "markdown",
      "metadata": {
        "id": "WAr4Ow3fHB2r"
      },
      "source": [
        "### 4.2.2 Filtering Users by Rating Count\n",
        "Given these observations, we apply threshold-based filtering to balance the dataset:\n",
        "- Remove (inactive) users with very few ratings (less than 30), as they provide limited information and may not contribute meaningfully to the model.\n",
        "- Remove the top 1% of (highly active) users by rating count to reduce the dominance of excessively active users, which could skew similarity calculations and model training.\n",
        "\n",
        "We chose 30 as the minimum rating threshold because it corresponds approximately to the median number of ratings per user in the dataset, based on the summary statistics. This means that half of the users rated fewer than 30 movies, and half rated more. Setting the cutoff at the median helps ensure we retain a large and diverse user base while filtering out the least active users who provide limited data."
      ]
    },
    {
      "cell_type": "code",
      "execution_count": null,
      "metadata": {
        "id": "nL-1prdqHB2r",
        "outputId": "f158f55c-e0ba-4cdc-a271-fbf42d2195fa"
      },
      "outputs": [
        {
          "name": "stdout",
          "output_type": "stream",
          "text": [
            "Original number of users: 283228\n",
            "Filtered number of users: 140715\n",
            "Original number of ratings: 27753444\n",
            "Filtered number of ratings: 21458122\n",
            "Percentage of ratings retained: 77.32%\n"
          ]
        }
      ],
      "source": [
        "min_thres = 30\n",
        "max_thres = user_ratings['count'].quantile(0.99)  # Top 1% cutoff\n",
        "\n",
        "# Select users within the acceptable rating range\n",
        "filtered_users = user_ratings[(user_ratings['count'] >= min_thres) & (user_ratings['count'] <= max_thres)].index\n",
        "\n",
        "# Filter the original dataframe to keep only these users\n",
        "df_filtered = df[df['userId'].isin(filtered_users)]\n",
        "\n",
        "# Summary of filtering impact\n",
        "print(f\"Original number of users: {df['userId'].nunique()}\")\n",
        "print(f\"Filtered number of users: {df_filtered['userId'].nunique()}\")\n",
        "print(f\"Original number of ratings: {df.shape[0]}\")\n",
        "print(f\"Filtered number of ratings: {df_filtered.shape[0]}\")\n",
        "print(f\"Percentage of ratings retained: {df_filtered.shape[0] / df.shape[0] * 100:.2f}%\")\n"
      ]
    },
    {
      "cell_type": "markdown",
      "metadata": {
        "id": "ptbdsPjGHB2t"
      },
      "source": [
        "After filtering, we retain about 77% of ratings from roughly half the original users, preserving a large and diverse user set. We now have 21458122 ratings."
      ]
    },
    {
      "cell_type": "markdown",
      "metadata": {
        "id": "2AJJ2qW4HB2u"
      },
      "source": [
        "### 4.2.3 Checking for Duplicate Ratings\n",
        "Next, we checked whether any users have rated the same movie multiple times, as duplicates could distort model training."
      ]
    },
    {
      "cell_type": "code",
      "execution_count": null,
      "metadata": {
        "id": "sz8OvjH0HB2v",
        "outputId": "4925657d-64d2-4375-fb96-3950854ff186"
      },
      "outputs": [
        {
          "name": "stdout",
          "output_type": "stream",
          "text": [
            "Total duplicate ratings found: 0\n",
            "Empty DataFrame\n",
            "Columns: [userId, movieId, count]\n",
            "Index: []\n"
          ]
        }
      ],
      "source": [
        "# Count ratings per user-movie pair to identify duplicates\n",
        "duplicate_ratings = df_filtered.groupby(['userId', 'movieId']).size().reset_index(name='count')\n",
        "\n",
        "# Filter user-movie pairs with more than one rating\n",
        "duplicates = duplicate_ratings[duplicate_ratings['count'] > 1]\n",
        "\n",
        "# Output total duplicates found and a sample\n",
        "print(f\"Total duplicate ratings found: {duplicates.shape[0]}\")\n",
        "print(duplicates.head())"
      ]
    },
    {
      "cell_type": "markdown",
      "metadata": {
        "id": "FbqYK5HWHB2w"
      },
      "source": [
        "No duplicate ratings were found, which means each user-movie pair has only one rating. This ensures data consistency."
      ]
    },
    {
      "cell_type": "markdown",
      "metadata": {
        "id": "maMxMe45HB2x"
      },
      "source": [
        "### 4.2.4 Identifying and Removing Extreme Raters\n",
        "Next, we address users who consistently rate movies at the extremes (i.e., giving only 1-star or 5-star ratings). This behaviour limits rating variability, making it difficult for models to differentiate between genuine preferences and rigid rating tendencies, potentially introducing bias in model evaluation.\n",
        "\n",
        "In **KNN-based models**, extreme users provide little variation, which distorts similarity calculations and affects neighbour selection. Without varied ratings, the system struggles to identify true preference paterns. This leads to misleading user-item similarities.\n",
        "\n",
        "For **matrix factorisation models**, extreme raters can influence latent factors disproportionately. As a result, bias terms are overemphasised. While these models inherently learn user tendencies, extreme ratings can still affect the learned representations, leading to a reducted recommendation accuracy.\n",
        "\n",
        "To ensure a more balanced evaluation, we flagged and removed users whose averages were ≤ 1.5 or ≥ 4.5. This filtering helps ensure that model training and evaluation are not influenced by overly rigid rating behaviours, and that metrics like RMSE more accurately reflect real-world prediction performance."
      ]
    },
    {
      "cell_type": "code",
      "execution_count": null,
      "metadata": {
        "id": "hML2P16PHB2x",
        "outputId": "917a3c42-43ff-436c-d800-7c1dedb78fc0"
      },
      "outputs": [
        {
          "name": "stdout",
          "output_type": "stream",
          "text": [
            "Number of extreme rating users: 3790\n",
            "Total users after filtering extreme raters: 136925\n",
            "Total ratings after filtering extreme raters: 21101829\n"
          ]
        }
      ],
      "source": [
        "# Calculate average rating per user on filtered data\n",
        "user_avg_rating = df_filtered.groupby('userId')['rating'].mean()\n",
        "\n",
        "# Identify users who only give extreme ratings\n",
        "extreme_users = user_avg_rating.loc[(user_avg_rating <= 1.5) | (user_avg_rating >= 4.5)].index\n",
        "\n",
        "print(f\"Number of extreme rating users: {len(extreme_users)}\")\n",
        "\n",
        "# Remove extreme raters from the filtered dataset\n",
        "df_filtered_extreme = df_filtered[~df_filtered['userId'].isin(extreme_users)]\n",
        "\n",
        "print(\"Total users after filtering extreme raters:\", df_filtered_extreme['userId'].nunique())\n",
        "print(\"Total ratings after filtering extreme raters:\", df_filtered_extreme.shape[0])\n"
      ]
    },
    {
      "cell_type": "markdown",
      "metadata": {
        "id": "Zio8D-V9HB2y"
      },
      "source": [
        "We removed around 3,790 extreme raters, slightly reducing the user base but improving rating diversity and model robustness."
      ]
    },
    {
      "cell_type": "markdown",
      "metadata": {
        "id": "5ez5ytPuHB2y"
      },
      "source": [
        "### 4.2.5 Filtering Users by Rating Variance\n",
        "Finally, we investigated the variance in user ratings to identify individuals with highly inconsistent preferences. Unlike the previous group, who consistently rate very low or very high, these users exhibit unpredictable rating patterns, making it difficult for the model to extract meaningful insights. Filtering them out helps improve evaluation accuracy for both models.\n",
        "\n",
        "Without filtering, similarity calculations in neighborhood-based models may be distorted. Users with erratic rating behaviors may appear artificially similar, causing the model to select misleading neighbors. By removing these users, KNN-based models can better differentiate profiles based on consistent rating behaviors.\n",
        "\n",
        "For matrix factorization models, this filtering improves latent feature learning by reducing noise from unpredictable rating trends. While it enhances generalization, overfitting is primarily controlled through regularization techniques, such as L2 penalty in SVD. Removing erratic raters ensures that learned preferences are more representative of actual user behavior, improving recommendation stability."
      ]
    },
    {
      "cell_type": "code",
      "execution_count": null,
      "metadata": {
        "id": "fuDcxWtFHB2z",
        "outputId": "b2b3e0ab-12e1-41c8-ab77-1c8e7cfc0683"
      },
      "outputs": [
        {
          "name": "stdout",
          "output_type": "stream",
          "text": [
            "count    136925.000000\n",
            "mean          0.938320\n",
            "std           0.499050\n",
            "min           0.000000\n",
            "25%           0.592498\n",
            "50%           0.837127\n",
            "75%           1.171125\n",
            "max           5.215909\n",
            "Name: rating, dtype: float64\n",
            "Number of highly variable users: 16047\n",
            "Total users remaining after filtering: 120878\n",
            "Total ratings remaining: 18947255\n"
          ]
        }
      ],
      "source": [
        "# Calculate variance of ratings per user after removing extremes\n",
        "user_var = df_filtered_extreme.groupby('userId')['rating'].var()\n",
        "\n",
        "print(user_var.describe())\n",
        "\n",
        "# Define variance threshold to identify highly variable users\n",
        "variance_threshold = 1.5\n",
        "\n",
        "# Users with variance above threshold\n",
        "high_var_users = user_var[user_var >= variance_threshold].index\n",
        "\n",
        "print(f\"Number of highly variable users: {len(high_var_users)}\")\n",
        "\n",
        "# Remove users with extreme rating variability\n",
        "df_filtered_var = df_filtered_extreme[~df_filtered_extreme['userId'].isin(high_var_users)]\n",
        "\n",
        "# Print final summary after all filtering steps\n",
        "print(f\"Total users remaining after filtering: {df_filtered_var['userId'].nunique()}\")\n",
        "print(f\"Total ratings remaining: {df_filtered_var.shape[0]}\")\n"
      ]
    },
    {
      "cell_type": "code",
      "execution_count": null,
      "metadata": {
        "id": "X01BIIy6HB2z",
        "outputId": "0f216776-e9e5-4cff-a821-c5ad0478ee30"
      },
      "outputs": [
        {
          "data": {
            "image/png": "[encoded data removed]",
            "text/plain": [
              "<Figure size 1000x600 with 1 Axes>"
            ]
          },
          "metadata": {},
          "output_type": "display_data"
        }
      ],
      "source": [
        "\n",
        "# Plot histogram of user rating variance\n",
        "plt.figure(figsize=(10, 6))\n",
        "plt.hist(user_var, bins=50, edgecolor='black', alpha=0.75)\n",
        "plt.xlabel('Rating Variance')\n",
        "plt.ylabel('Number of Users')\n",
        "plt.title('Distribution of User Rating Variance')\n",
        "plt.grid(True)\n",
        "plt.show()"
      ]
    },
    {
      "cell_type": "markdown",
      "metadata": {
        "id": "1o-Gg9quHB20"
      },
      "source": [
        "So, it appears that individuals differ in how consistently they rate movies. Some users show high variability in their ratings, while others rate more uniformly. Most users have moderate rating variance—75% of users have a variance ≤ 1.171—suggesting that a quarter of users are significantly more inconsistent in their rating behaviour.\n",
        "\n",
        "The maximum observed variance is 5.215, which signals extreme rating inconsistency in a small subset of users. We chose a relatively low threshold of 1.5 to flag and remove only those with very inconsistent ratings, while retaining users with reasonable variability. This strikes a balance between removing noise and keeping diversity in the data.\n",
        "After filtering, the dataset includes about 120,878 users and 18.9 million ratings, achieving a good trade-off between data quality and dataset size."
      ]
    },
    {
      "cell_type": "markdown",
      "metadata": {
        "id": "u9wZ662KfLLt"
      },
      "source": [
        "## Step 4.3 Movie Filtering"
      ]
    },
    {
      "cell_type": "markdown",
      "metadata": {
        "id": "0kK7Y6JxfLLt"
      },
      "source": [
        "Another crucial step in our preprocessing pipeline was to investigate movie-specific rating distributions. The reasoning behind this approach was that certian movies may receive very few ratings, making it difficult to determine reliable trends in user preferences. In a recommender system, movies with sparse ratings can introduce instability in predictions as their scores are based on only a handful opinions.\n",
        "\n",
        "Additionally, we recognised that some movies exhibit high variance in ratings, since some users rate them extremely high and others very low. These highly polarising movies could complicate model learning, as they do not follow clear preference patterns. However, we do recognise that not all high-variance movies are problematic. Popular movies with difverse opinions (such as controversial blockbusters) can still provide valuable signals for recommendation. So, instead of ouright removing every highly polarised movie, we will filter only those with extreme variance and insufficient ratings.\n",
        "\n",
        "**KNN-based models** may struggle here because similarity calculations rely on consistent user preferences. Similarly, **matrix factorisation models** might face difficulty learning stable latent factors if a movie has an unpredictable rating distribution.\n",
        "\n",
        "#### Filtering Strategy\n",
        "In the next section, we applied three filtering steps to ensure model robustness:\n",
        "1. Remove movies with very few ratings\n",
        "2. Manage overrepresented movies (highly rated titles)\n",
        "3. Identify and remove extreme polarising movies"
      ]
    },
    {
      "cell_type": "code",
      "execution_count": null,
      "metadata": {
        "id": "fxhsLsAOHB22",
        "outputId": "1b148b84-2766-4d02-e794-818c53452f5c"
      },
      "outputs": [
        {
          "name": "stdout",
          "output_type": "stream",
          "text": [
            "Summary statistics of rating counts per movie:\n",
            "count    38125.000000\n",
            "mean       496.977180\n",
            "std       2554.779897\n",
            "min          1.000000\n",
            "25%          2.000000\n",
            "50%          6.000000\n",
            "75%         58.000000\n",
            "max      69107.000000\n",
            "Name: rating, dtype: float64\n"
          ]
        },
        {
          "data": {
            "image/png": "[encoded data removed]",
            "text/plain": [
              "<Figure size 1000x500 with 1 Axes>"
            ]
          },
          "metadata": {},
          "output_type": "display_data"
        },
        {
          "name": "stdout",
          "output_type": "stream",
          "text": [
            "\n"
          ]
        },
        {
          "data": {
            "image/png": "[encoded data removed]",
            "text/plain": [
              "<Figure size 1000x500 with 1 Axes>"
            ]
          },
          "metadata": {},
          "output_type": "display_data"
        }
      ],
      "source": [
        "# Count ratings per movie in the filtered dataset\n",
        "movie_counts = df_filtered_var.groupby('movieId')['rating'].count()\n",
        "\n",
        "# Display summary statistics for the number of ratings per movie\n",
        "print(\"Summary statistics of rating counts per movie:\")\n",
        "print(movie_counts.describe())\n",
        "# This helps us understand the distribution, including min, max, median, quartiles\n",
        "\n",
        "# Plot histogram of ratings per movie\n",
        "plt.figure(figsize=(10, 5))\n",
        "sns.histplot(movie_counts, bins=30, kde=True)\n",
        "plt.title(\"Distribution of Ratings per Movie\")\n",
        "plt.xlabel(\"Number of Ratings per Movie\")\n",
        "plt.ylabel(\"Frequency\")\n",
        "plt.show()\n",
        "# The histogram shows how many movies fall into each rating count bin,\n",
        "# highlighting if many movies have very few or very many ratings\n",
        "print()\n",
        "\n",
        "# Plot boxplot to identify outliers in rating counts\n",
        "plt.figure(figsize=(10, 5))\n",
        "sns.boxplot(x=movie_counts)\n",
        "plt.title(\"Boxplot of Movie Rating Counts\")\n",
        "plt.xlabel(\"Number of Ratings per Movie\")\n",
        "plt.show()\n",
        "# Boxplot visualises the spread and highlights extreme outliers (movies with very few or very many ratings)\n"
      ]
    },
    {
      "cell_type": "markdown",
      "metadata": {
        "id": "QY_oimz8fLLu"
      },
      "source": [
        "### 4.3.1 Filtering Movies with Very Few Ratings\n",
        "Based on the distribution of the movie ratings summary, we observed a large variation in the number of ratings per movie. Some movies were widely reviewed, whereas others have received very few ratings. For example:\n",
        "- 25% of movies had fewer than 2 ratings\n",
        "- The median was only 6 ratings\n",
        "- 75% had fewer than 58 ratings\n",
        "- Some movies had up to 69,107 ratings\n",
        "\n",
        "The boxplots also confirmed the presence of significant outliers.\n",
        "\n",
        "Keeping movies with very few ratings could introduce instability in model performance, as some algorithms struggle to provide meaningful predictions for underrepresented items. By filtering out these movies, we make sure that the models are trained on items with sufficient user interactions, leading to more reliable recommendations.\n",
        "\n",
        "Taking all of these into consideration, we opted for a minimum threshold of 10 ratings per movie to strike a balance between removing underrepresented movies and retaining sufficient data for modelling. KNN relies on item similarity, so having too many low-rating count movies can cause unstable similarity calculations. On the other hand, matrix factorisation learns latent factors, so low-rating movies might not strongly impact factor learning. This is why we decided on a threshold of 10.\n"
      ]
    },
    {
      "cell_type": "code",
      "execution_count": null,
      "metadata": {
        "id": "FSshmhOhfLLu",
        "outputId": "cf6ac2b7-ca3f-4b6e-b05f-32d3ee13e09e"
      },
      "outputs": [
        {
          "name": "stdout",
          "output_type": "stream",
          "text": [
            "Total movies after filtering: 16383\n",
            "Total ratings after movie filtering: 18888289\n"
          ]
        }
      ],
      "source": [
        "# Definine minimum threshold\n",
        "min_movie_ratings = 10\n",
        "\n",
        "# Select moves that meet the threshold\n",
        "filtered_movies = movie_counts[movie_counts >= min_movie_ratings].index\n",
        "\n",
        "# Filter dataset to retain movies with enough ratings\n",
        "df_filtered_movies = df_filtered_var[df_filtered_var['movieId'].isin(filtered_movies)]\n",
        "\n",
        "# Print statistics\n",
        "print(f\"Total movies after filtering: {df_filtered_movies['movieId'].nunique()}\")\n",
        "print(f\"Total ratings after movie filtering: {df_filtered_movies.shape[0]}\")"
      ]
    },
    {
      "cell_type": "markdown",
      "metadata": {
        "id": "IEWY9iDbHB25"
      },
      "source": [
        "After applying the filtering criteria, the dataset contains 16,383 movies and 18,888,289 ratings remaining for analysis."
      ]
    },
    {
      "cell_type": "markdown",
      "metadata": {
        "id": "XOYSVcQ8HB25"
      },
      "source": [
        "### 4.3.2 Handling Movies with Excessive Ratings\n",
        "\n",
        "Previously, we considered removing movies with excessive ratings, fearing they would overwhelm the recommendation system. However, outright deletion could have negative consequences, as popular movies often serve as strong indicators of user preferences. Instead of filtering them out, we applied log transformation to soften their influence.\n",
        "\n",
        "Log transformation can be beneficial in several ways:\n",
        "1. Reduces the dominance of excessively rated movies while preserving their relevance.\n",
        "2. Compresses large rating counts, ensuring that high-interaction movies don’t skew the model.\n",
        "3. Maintains generalization, allowing the model to leverage insights from popular movies while preventing them from overshadowing lesser-known items."
      ]
    },
    {
      "cell_type": "code",
      "execution_count": null,
      "metadata": {
        "id": "eV4RlXafHB26",
        "outputId": "f9f35b45-f936-4a31-d978-928a8408aa31"
      },
      "outputs": [
        {
          "name": "stderr",
          "output_type": "stream",
          "text": [
            "C:\\Users\\shari\\AppData\\Local\\Temp\\ipykernel_11528\\3924665135.py:2: SettingWithCopyWarning: \n",
            "A value is trying to be set on a copy of a slice from a DataFrame.\n",
            "Try using .loc[row_indexer,col_indexer] = value instead\n",
            "\n",
            "See the caveats in the documentation: https://pandas.pydata.org/pandas-docs/stable/user_guide/indexing.html#returning-a-view-versus-a-copy\n",
            "  df_filtered_movies.loc[:, 'log_rating_count'] = np.log1p(df_filtered_movies.groupby('movieId')['rating'].transform('count'))\n"
          ]
        },
        {
          "name": "stdout",
          "output_type": "stream",
          "text": [
            "Log-transformed rating counts applied.\n",
            "            movieId  log_rating_count\n",
            "count  1.888829e+07      1.888829e+07\n",
            "mean   1.675210e+04      8.795714e+00\n",
            "std    3.286029e+04      1.480075e+00\n",
            "min    1.000000e+00      2.397895e+00\n",
            "25%    1.035000e+03      8.022569e+00\n",
            "50%    2.571000e+03      9.054271e+00\n",
            "75%    6.620000e+03      9.892882e+00\n",
            "max    1.925790e+05      1.114343e+01\n"
          ]
        }
      ],
      "source": [
        "# Apply log transformation to normalize movie rating counts\n",
        "df_filtered_movies.loc[:, 'log_rating_count'] = np.log1p(df_filtered_movies.groupby('movieId')['rating'].transform('count'))\n",
        "\n",
        "# Print summary of log-transformed rating counts\n",
        "print(\"Log-transformed rating counts applied.\")\n",
        "print(df_filtered_movies[['movieId', 'log_rating_count']].describe())"
      ]
    },
    {
      "cell_type": "markdown",
      "metadata": {
        "id": "EgXpfEESHB27"
      },
      "source": [
        "### 4.3.3 Filtering Highly Polarising Movies\n",
        "Next, we reasoned that highly polarising movies (those with extreme variability in ratings) could distort model evaluation. For example, if a movie receives both very high (5) and very low (1) ratings, it indicates sharply divided user opinions. This makes it difficult for recommender models to generate reliable predictions. However, like we previously said: \"not all high-variance movies are problematic. Popular movies with diverse opinions (such as controversial blockbusters) can still provide valuable signals for recommendation. So, instead of outright removing every highly polarised movie, we will filter only those with extreme variance and insufficient ratings.\"\n",
        "\n",
        "To proceed, we analyse the distribution of rating variability across movies. By calculating the variance of ratings per movie, we can identify those with extreme rating dispersion. This analysis will help us decide on an appropriate threshold for filtering out such movies."
      ]
    },
    {
      "cell_type": "code",
      "execution_count": null,
      "metadata": {
        "id": "yNYUyRSyHB27",
        "outputId": "74206f02-dbe0-427d-fdb3-8e1ba75aea85"
      },
      "outputs": [
        {
          "name": "stdout",
          "output_type": "stream",
          "text": [
            "count    16383.000000\n",
            "mean         0.847059\n",
            "std          0.326286\n",
            "min          0.061813\n",
            "25%          0.628494\n",
            "50%          0.797846\n",
            "75%          1.006784\n",
            "max          4.468182\n",
            "Name: rating, dtype: float64\n"
          ]
        }
      ],
      "source": [
        "# Calculate the variance of ratings for each movie to identify how polarizing each movie is\n",
        "movie_var = df_filtered_movies.groupby('movieId')['rating'].var()\n",
        "\n",
        "# Print summary statistics of these variances to understand their distribution\n",
        "print(movie_var.describe())\n"
      ]
    },
    {
      "cell_type": "markdown",
      "metadata": {
        "id": "HP5iawwYHB28"
      },
      "source": [
        "From the summary statistics, we observe that 75% of movies have a rating variance less than or equal to approximately (<=) 1.01, while the maximum variance is 4.468. This suggests that most movies have relatively low variance in ratings, and only a few are highly polarizing. Based on this, a reasonable cutoff threshold for defining \"highly polarizing\" movies is set around 1.1."
      ]
    },
    {
      "cell_type": "code",
      "execution_count": null,
      "metadata": {
        "id": "Mt3mBlvMHB29",
        "outputId": "98240e05-2a29-49c4-ff9a-a988f58e057d"
      },
      "outputs": [
        {
          "name": "stdout",
          "output_type": "stream",
          "text": [
            "Number of highly polarizing movies: 2934\n"
          ]
        }
      ],
      "source": [
        "# Define a variance threshold to filter out highly polarizing movies\n",
        "var_thres = 1.1\n",
        "\n",
        "# Select movie IDs where the rating variance is greater than or equal to the threshold\n",
        "pol_movies = movie_var[movie_var >= var_thres].index\n",
        "\n",
        "# Output the number of movies classified as highly polarizing\n",
        "print(f\"Number of highly polarizing movies: {len(pol_movies)}\")\n"
      ]
    },
    {
      "cell_type": "markdown",
      "metadata": {
        "id": "6P6FVweJHB2-"
      },
      "source": [
        "Using a variance threshold of 1.1 to identify highly polarising movies, we found that 2934 movies exhibited extreme rating variability and were therefore excluded from the dataset."
      ]
    },
    {
      "cell_type": "code",
      "execution_count": null,
      "metadata": {
        "id": "4RAwYlvQHB2-",
        "outputId": "fdabfadf-1cbc-4c25-bd96-3c2d5e1d09a8"
      },
      "outputs": [
        {
          "name": "stdout",
          "output_type": "stream",
          "text": [
            "Total movies remaining after filtering polarizing ones: 13449\n",
            "Total ratings remaining after filtering: 17790981\n"
          ]
        }
      ],
      "source": [
        "# Create a filtered DataFrame excluding the highly polarizing movies\n",
        "df_final = df_filtered_movies[~df_filtered_movies['movieId'].isin(pol_movies)]\n",
        "\n",
        "# Print how many unique movies remain after filtering out polarizing ones\n",
        "print(f\"Total movies remaining after filtering polarizing ones: {df_final['movieId'].nunique()}\")\n",
        "\n",
        "# Print the total number of ratings remaining after filtering\n",
        "print(f\"Total ratings remaining after filtering: {df_final.shape[0]}\")\n"
      ]
    },
    {
      "cell_type": "markdown",
      "metadata": {
        "id": "Q01KdJN-HB2_"
      },
      "source": [
        "After removing the highly polarising movies, the dataset was reduced to 13,449 unique movies with a total of approximately 17.8 million ratings remaining for analysis."
      ]
    },
    {
      "cell_type": "markdown",
      "metadata": {
        "id": "zkQ9jESgHB2_"
      },
      "source": [
        "### 4.3.4 Stratified Sampling of the Filtered Dataset\n",
        "Given the remaining large size of the dataset (approximately 18 million ratings) and the need for efficient model evaluation, we decided to apply Stratified Sampling to select a representative subset of 700,000 ratings for training and testing our recommender system models.\n",
        "\n",
        "The reasoning behind this approach includes:\n",
        "1. Balanced representation: The dataset contains ratings from 0.5 to 5.0 and user behaviour varies significantly. Stratified sampling preserve the distribution of ratings, ensuring that each rating level remains proportionally represented in the subset.\n",
        "2. Reducing evaluation bias: Random sampling could overrepresent frequent raters or popular movies, skewing the model's performance metrics. Stratified sampling helps maintain the diversity in user ratings, avoiding such biases.\n",
        "3. Computational efficiency: Processing the full dataset (about 18 million ratings) through 5-fold cross-validation is computationally expensive (previously taking over 40 minutes per fold with a simple baseline model). By selecting a smaller but representative subset of around 700,000 ratings, we are still retaining key patterns while drastically reducing computation time without sacrificing data integrity."
      ]
    },
    {
      "cell_type": "code",
      "execution_count": null,
      "metadata": {
        "id": "y4hfhmYHHB3A",
        "outputId": "6700f48f-787c-4ce3-c3f0-00e7636cd5e8"
      },
      "outputs": [
        {
          "name": "stdout",
          "output_type": "stream",
          "text": [
            "Sampled dataset size: (700000, 4)\n"
          ]
        }
      ],
      "source": [
        "from sklearn.model_selection import StratifiedShuffleSplit\n",
        "\n",
        "# Define the target sample size for ratings to balance computational efficiency and data representativeness\n",
        "sample_size = 700000\n",
        "\n",
        "# Initialize StratifiedShuffleSplit to create one split, with test_size proportional to the sample size relative to the full filtered dataset\n",
        "sss = StratifiedShuffleSplit(\n",
        "    n_splits=1,\n",
        "    test_size=sample_size / len(df_final),\n",
        "    random_state=42  # Ensures reproducibility of the split\n",
        ")\n",
        "\n",
        "# Perform stratified sampling on the filtered dataset based on the 'rating' column\n",
        "for _, sample_idx in sss.split(df_final, df_final['rating']):\n",
        "    # Select the sampled subset using the indices generated by StratifiedShuffleSplit\n",
        "    df_sampled = df_final.iloc[sample_idx].copy()\n",
        "\n",
        "# Print the shape of the final sampled dataset to verify sample size\n",
        "print(f\"Sampled dataset size: {df_sampled.shape}\")\n"
      ]
    },
    {
      "cell_type": "markdown",
      "metadata": {
        "id": "j8zjGf3dHB3B"
      },
      "source": [
        "This step applies Stratified Sampling to the filtered dataset to create a manageable yet representative subset of 700,000 ratings for model training and evaluation. By stratifying on the 'rating' column, we ensure that the distribution of rating values in the sample mirrors that of the original dataset. This helps maintain diversity and balance across rating levels, which is crucial for unbiased and reliable recommender system evaluation. Setting a fixed random state guarantees that the sampling process can be replicated exactly in future runs."
      ]
    },
    {
      "cell_type": "markdown",
      "metadata": {
        "id": "aNABLBBBo3Zh"
      },
      "source": [
        "# STEP 5: NORMALISATION"
      ]
    },
    {
      "cell_type": "markdown",
      "metadata": {
        "id": "Nf6YdoRRHB3B"
      },
      "source": [
        "The histogram showed that the ratings are not evenly distributed, with most ratings concentrated on the higher end of the scale, while lower ratings (1 and 2) are relatively uncommon. This indicates a potential positive bias, where users tend to rate movies favourably. To address this skew in ratings, we applied normalisation technique to ensure fairer comparisons and improved model performance.\n",
        "\n",
        "KNN-based models rely on calculating similarities between users or items, and by adjusting for individual biases we improve the accuracy of similarity computations. Essentially, this centres the ratings per user, so the model focuses on relative preferences rather than absolute rating values.\n",
        "\n",
        "For the matrix-factorization model, we did not use normalisation as it inherently learns user biases thorugh latent factor modelling. The model captures patterns in user preferences and adjusts recommendations accordingly, and hence explicit normalisation is not required.\n",
        "\n",
        "Before performing normalisation for the KNN-model, we created a separate copy of the 'df_sampled'.\n"
      ]
    },
    {
      "cell_type": "code",
      "execution_count": null,
      "metadata": {
        "id": "jgFzZTQqo-YE"
      },
      "outputs": [],
      "source": [
        "# User-centered normalisation: subtract each user's mean rating from their individual ratings\n",
        "df_user_centered = df_sampled.copy()\n",
        "df_user_centered['user_mean'] = df_user_centered.groupby('userId')['rating'].transform('mean')\n",
        "df_user_centered['rating_centered'] = df_user_centered['rating'] - df_user_centered['user_mean']"
      ]
    },
    {
      "cell_type": "markdown",
      "metadata": {
        "id": "-4U9quJQ5lYS"
      },
      "source": [
        "# STEP 6: BASELINE MODELS"
      ]
    },
    {
      "cell_type": "markdown",
      "metadata": {
        "id": "8p1lCFGvfLL4"
      },
      "source": [
        "## 6.1 Baseline for KNN"
      ]
    },
    {
      "cell_type": "code",
      "execution_count": null,
      "metadata": {
        "id": "n2ClPGdhHB3D",
        "outputId": "54ee20a8-0435-4928-f798-8e7a10adddee"
      },
      "outputs": [
        {
          "name": "stdout",
          "output_type": "stream",
          "text": [
            "\n",
            "---Baseline Model: NormalPredictor ---\n",
            "Evaluating RMSE of algorithm NormalPredictor on 5 split(s).\n",
            "\n",
            "                  Fold 1  Fold 2  Fold 3  Fold 4  Fold 5  Mean    Std     \n",
            "RMSE (testset)    1.2992  1.2983  1.2962  1.3004  1.3021  1.2992  0.0020  \n",
            "Fit time          0.93    0.91    0.93    0.92    0.93    0.92    0.01    \n",
            "Test time         1.62    1.65    1.65    1.60    1.54    1.61    0.04    \n",
            "\n",
            "Average RMSE (Baseline): 1.2992\n"
          ]
        }
      ],
      "source": [
        "# Define the rating scale and prepare the dataset for Surprise\n",
        "# Surprise expects a DataFrame with columns: userId, itemId (movieId), rating\n",
        "reader = Reader(rating_scale=(0.5, 5.0))\n",
        "data_knn = Dataset.load_from_df(df_user_centered[['userId', 'movieId', 'rating']], reader)\n",
        "\n",
        "# Set up 5-fold cross-validation\n",
        "# Data is shuffled before splitting and a fixed random seed is set for reproducibility\n",
        "cv = KFold(n_splits=5, random_state=42, shuffle=True)\n",
        "\n",
        "# Initialize the baseline model: NormalPredictor\n",
        "# This model ignores all user/item information and predicts ratings randomly\n",
        "# based on the training set’s rating distribution, serving as a simple benchmark\n",
        "print(\"\\n---Baseline Model: NormalPredictor ---\")\n",
        "baseline_model = NormalPredictor()\n",
        "\n",
        "# Evaluate the baseline model with cross-validation, measuring RMSE\n",
        "baseline_results = cross_validate(\n",
        "    baseline_model,     # Model to evaluate\n",
        "    data_knn,           # Dataset in Surprise format\n",
        "    measures=['RMSE'],  # Evaluation metric\n",
        "    cv=cv,              # Cross-validation scheme\n",
        "    verbose=True,       # Show progress and results for each fold\n",
        "    n_jobs=-1           # Use all CPU cores for faster computation\n",
        ")\n",
        "\n",
        "# Calculate and print the average RMSE across all 5 folds\n",
        "mean_rmse = round(baseline_results['test_rmse'].mean(), 4)\n",
        "print(f\"\\nAverage RMSE (Baseline): {mean_rmse}\")\n"
      ]
    },
    {
      "cell_type": "code",
      "execution_count": null,
      "metadata": {
        "id": "Re9V_Z1KHB3E"
      },
      "outputs": [],
      "source": [
        "## 6.1 Baseline Without Normalisation"
      ]
    },
    {
      "cell_type": "code",
      "execution_count": null,
      "metadata": {
        "id": "ZE3Wbz20HB3F",
        "outputId": "9276b9c8-60f6-4777-af15-083a1ffaea99"
      },
      "outputs": [
        {
          "name": "stdout",
          "output_type": "stream",
          "text": [
            "\n",
            "---Baseline Model: NormalPredictor ---\n",
            "Evaluating RMSE of algorithm NormalPredictor on 5 split(s).\n",
            "\n",
            "                  Fold 1  Fold 2  Fold 3  Fold 4  Fold 5  Mean    Std     \n",
            "RMSE (testset)    1.2981  1.3016  1.2998  1.2968  1.3028  1.2998  0.0022  \n",
            "Fit time          1.23    1.10    1.12    1.08    1.08    1.12    0.06    \n",
            "Test time         2.85    2.89    2.73    2.60    2.49    2.71    0.15    \n",
            "\n",
            "Average RMSE (Baseline): 1.2998\n"
          ]
        }
      ],
      "source": [
        "# Define the rating scale and prepare the dataset for Surprise\n",
        "# Using the original sampled dataframe without any normalisation\n",
        "reader = Reader(rating_scale=(0.5, 5.0))\n",
        "data = Dataset.load_from_df(df_sampled[['userId', 'movieId', 'rating']], reader)\n",
        "\n",
        "# Set up cross-validation using the same 5-fold scheme defined earlier (cv)\n",
        "# This ensures consistent evaluation across all baseline models\n",
        "\n",
        "# Initialize the baseline model: NormalPredictor\n",
        "# This model ignores all user/item info and predicts ratings randomly\n",
        "# based on the training set’s rating distribution, serving as a basic benchmark\n",
        "print(\"\\n---Baseline Model: NormalPredictor ---\")\n",
        "baseline_model = NormalPredictor()\n",
        "\n",
        "# Evaluate the baseline model with cross-validation, measuring RMSE\n",
        "baseline_results = cross_validate(\n",
        "    baseline_model,     # Model to evaluate\n",
        "    data,               # Dataset without normalization\n",
        "    measures=['RMSE'],  # Evaluation metric\n",
        "    cv=cv,              # Same cross-validation scheme\n",
        "    verbose=True,       # Show fold-wise progress\n",
        "    n_jobs=-1           # Use all CPU cores for faster computation\n",
        ")\n",
        "\n",
        "# Calculate and print the average RMSE across all 5 folds\n",
        "mean_rmse = round(baseline_results['test_rmse'].mean(), 4)\n",
        "print(f\"\\nAverage RMSE (Baseline): {mean_rmse}\")"
      ]
    },
    {
      "cell_type": "markdown",
      "metadata": {
        "id": "MH2XBwBmHB3F"
      },
      "source": [
        "The RMSE values for each fold show the error of the baseline NormalPredictor model, which predicts ratings randomly based on the training data distribution. The small standard deviation (Std) indicates consistent performance across folds.\n",
        "\n",
        "Minor variations in the average RMSE may occur when rerunning the model due to its inherent randomness and stochastic nature. This baseline provides a reference point to evaluate how much better more advanced models perform.\n",
        "The baseline model was evaluated using 5-fold cross-validation, and the RMSE scores across the folds were quite consistent (i.e., RMSE = 1.299).\n",
        "\n",
        "The reason for the similar RMSE scores for both Normal Predictor is because this type of predictor itself isn't sensitive to the scale of the input values (i.e., ratings)."
      ]
    },
    {
      "cell_type": "markdown",
      "metadata": {
        "id": "FDNNAZYO8wKO"
      },
      "source": [
        "# STEP 7: NEIGHBOURHOOD-BASED METHOD"
      ]
    },
    {
      "cell_type": "markdown",
      "metadata": {
        "id": "QudNscuO8406"
      },
      "source": [
        "Neighbourhood methods are implemented under collaborative filtering algorithms, specifically in the KNN family of algorithms. There are four main types:\n",
        "\n",
        "* KNNBasic (Simple)\n",
        "* KNNWithMeans\n",
        "* KNNWithZScore\n",
        "* KNNBaseline"
      ]
    },
    {
      "cell_type": "markdown",
      "metadata": {
        "id": "oWn0K3W5fLL6"
      },
      "source": [
        "## KNNWithMeans\n",
        "We chose **KNNWithMeans** as our neighbourhood-based recommender model because it effectively accounts for user rating biases while remaining computationally efficient. Unlike **KNNBasic**, which uses only raw user-item similarities, **KNNWithMeans** adjusts predictions by considering each user’s average rating. This helps avoid skewed recommendations caused by individual rating tendencies.\n",
        "\n",
        "While **KNNBaseline** applies more advanced bias correction with global baseline estimates, our dataset was already normalised during preprocessing, so there was no need for additional adjustments. Similarly, **KNNWithZScore** uses Z-score normalisation, but since we had already normalised the dataset beforehand, further standardisation with Z-scores is redundant.\n",
        "Since **KNNWithMeans** achieved RMSE nearly identical to **KNNWithZScore** and outperformed the other KNN variants, while maintaining a simpler bias correction mechanism, we proceeded with this model."
      ]
    },
    {
      "cell_type": "markdown",
      "metadata": {
        "id": "blj8MZAvfLL7"
      },
      "source": [
        "### Hyperparameter Optimisation\n",
        "We optimised its hyperparameters using grid search to determine the best-performing configuration. The parameter grid explored variations in the following:\n",
        "- **k** (number of neighbors): To balance between local and global similarity influences. A lower k allows the model to focus on the most relevant items, while a higher k includes broader relations but may introduce noise. According to grid search, the best k was 20, confirming a smaller, more relevant neighborhood improves RMSE.\n",
        "- **min_k** (minimum neighbors for stable predictions): The values tested were 3, 5. The best performing value of min_k = 5 indicates that requiring at least 5 neighbours provides enough stability without overly restricting recommendations.\n",
        "- **similarity metric**: We chose 'pearson_baseline' since it performed best in grid search. Pearson correlation effectively captures item relationships without needing extra bias adjustments. We decided to not include cosine similarity or other similarity metrics in our parameter grid because Pearson is typically superior in user-item collaborative filtering.\n",
        "\n",
        "### Item-Based Filtering & Model Evaluation\n",
        "We opted for item-based filtering to generate recommendations based on item similarities rather than user similarities. This choice was mainly due to many users rating only a small fraction of movies, making user similarity computations less reliable. Additionally, the dataset contains a significant number of ratings, so in this case item-based filtering is the better choice.\n",
        "\n",
        "A 5-fold cross-validation was applied to ensure robust model evaluation. This approach reduces overfitting risks and provides a comprehensive assessment of RMSE performance across different data splits."
      ]
    },
    {
      "cell_type": "code",
      "execution_count": null,
      "metadata": {
        "id": "R24lSdSgfLL7",
        "outputId": "12c9d363-9103-4bfa-a8ac-a155dbe168a6"
      },
      "outputs": [
        {
          "name": "stdout",
          "output_type": "stream",
          "text": [
            "\n",
            "--- Grid Search: KNNWithMeans ---\n",
            "Estimating biases using als...\n",
            "Computing the pearson_baseline similarity matrix...\n",
            "Done computing similarity matrix.\n",
            "Estimating biases using als...\n",
            "Computing the pearson_baseline similarity matrix...\n",
            "Done computing similarity matrix.\n",
            "Estimating biases using als...\n",
            "Computing the pearson_baseline similarity matrix...\n",
            "Done computing similarity matrix.\n",
            "Estimating biases using als...\n",
            "Computing the pearson_baseline similarity matrix...\n",
            "Done computing similarity matrix.\n",
            "Estimating biases using als...\n",
            "Computing the pearson_baseline similarity matrix...\n",
            "Done computing similarity matrix.\n",
            "Estimating biases using als...\n",
            "Computing the pearson_baseline similarity matrix...\n",
            "Done computing similarity matrix.\n",
            "Estimating biases using als...\n",
            "Computing the pearson_baseline similarity matrix...\n",
            "Done computing similarity matrix.\n",
            "Estimating biases using als...\n",
            "Computing the pearson_baseline similarity matrix...\n",
            "Done computing similarity matrix.\n",
            "Estimating biases using als...\n",
            "Computing the pearson_baseline similarity matrix...\n",
            "Done computing similarity matrix.\n",
            "Estimating biases using als...\n",
            "Computing the pearson_baseline similarity matrix...\n",
            "Done computing similarity matrix.\n",
            "Estimating biases using als...\n",
            "Computing the pearson_baseline similarity matrix...\n",
            "Done computing similarity matrix.\n",
            "Estimating biases using als...\n",
            "Computing the pearson_baseline similarity matrix...\n",
            "Done computing similarity matrix.\n",
            "Estimating biases using als...\n",
            "Computing the pearson_baseline similarity matrix...\n",
            "Done computing similarity matrix.\n",
            "Estimating biases using als...\n",
            "Computing the pearson_baseline similarity matrix...\n",
            "Done computing similarity matrix.\n",
            "Estimating biases using als...\n",
            "Computing the pearson_baseline similarity matrix...\n",
            "Done computing similarity matrix.\n",
            "Estimating biases using als...\n",
            "Computing the pearson_baseline similarity matrix...\n",
            "Done computing similarity matrix.\n",
            "Estimating biases using als...\n",
            "Computing the pearson_baseline similarity matrix...\n",
            "Done computing similarity matrix.\n",
            "Estimating biases using als...\n",
            "Computing the pearson_baseline similarity matrix...\n",
            "Done computing similarity matrix.\n",
            "Estimating biases using als...\n",
            "Computing the pearson_baseline similarity matrix...\n",
            "Done computing similarity matrix.\n",
            "Estimating biases using als...\n",
            "Computing the pearson_baseline similarity matrix...\n",
            "Done computing similarity matrix.\n",
            "Estimating biases using als...\n",
            "Computing the pearson_baseline similarity matrix...\n",
            "Done computing similarity matrix.\n",
            "Estimating biases using als...\n",
            "Computing the pearson_baseline similarity matrix...\n",
            "Done computing similarity matrix.\n",
            "Estimating biases using als...\n",
            "Computing the pearson_baseline similarity matrix...\n",
            "Done computing similarity matrix.\n",
            "Estimating biases using als...\n",
            "Computing the pearson_baseline similarity matrix...\n",
            "Done computing similarity matrix.\n",
            "Estimating biases using als...\n",
            "Computing the pearson_baseline similarity matrix...\n",
            "Done computing similarity matrix.\n",
            "Estimating biases using als...\n",
            "Computing the pearson_baseline similarity matrix...\n",
            "Done computing similarity matrix.\n",
            "Estimating biases using als...\n",
            "Computing the pearson_baseline similarity matrix...\n",
            "Done computing similarity matrix.\n",
            "Estimating biases using als...\n",
            "Computing the pearson_baseline similarity matrix...\n",
            "Done computing similarity matrix.\n",
            "Estimating biases using als...\n",
            "Computing the pearson_baseline similarity matrix...\n",
            "Done computing similarity matrix.\n",
            "Estimating biases using als...\n",
            "Computing the pearson_baseline similarity matrix...\n",
            "Done computing similarity matrix.\n",
            "Best RMSE (KNNWithMeans): 0.8783\n",
            "Best Parameters (KNNWithMeans): {'k': 30, 'min_k': 5, 'sim_options': {'name': 'pearson_baseline', 'user_based': False}}\n"
          ]
        }
      ],
      "source": [
        "print(\"\\n--- Grid Search: KNNWithMeans ---\")\n",
        "\n",
        "# Define the parameter grid for tuning\n",
        "param_grid = {\n",
        "    'k': [20, 30, 40],\n",
        "    'min_k': [3, 5],\n",
        "    'sim_options': {\n",
        "        'name': ['pearson_baseline'],\n",
        "        'user_based': [False]\n",
        "    }\n",
        "}\n",
        "\n",
        "# Perform grid search with 5-fold cross-validation\n",
        "gs_knn_means = GridSearchCV(KNNWithMeans, param_grid, measures=['rmse'], cv=cv, n_jobs=1)\n",
        "gs_knn_means.fit(data_knn)\n",
        "\n",
        "# Print best results\n",
        "print(\"Best RMSE (KNNWithMeans):\", round(gs_knn_means.best_score['rmse'], 4))\n",
        "print(\"Best Parameters (KNNWithMeans):\", gs_knn_means.best_params['rmse'])"
      ]
    },
    {
      "cell_type": "markdown",
      "metadata": {
        "id": "m2U6ynQCHB3J"
      },
      "source": [
        "Overall, the best RMSE achieved was **0.8783** with parameters k=30, min_k=5, Pearson similarity, and item-based filtering. This represents a significant improvement over the Normal Predictor baseline RMSE of 1.3.\n"
      ]
    },
    {
      "cell_type": "markdown",
      "metadata": {
        "id": "6NImoYTH-PUO"
      },
      "source": [
        "# STEP 9: MATRIX FACTORISATION-BASED METHOD"
      ]
    },
    {
      "cell_type": "markdown",
      "metadata": {
        "id": "Uxmw7zDA-uzC"
      },
      "source": [
        "Matrix factorisation-based methods are collaborative filtering algorithms that decompose the rating matrix into smaller matrices to approximate missing values. There are three main types:\n",
        "\n",
        "* SVD (Singular Value Decomposition)\n",
        "* SVDpp (SVD Plus Plus)\n",
        "* NMF (Non-Negative Matrix Factorization)"
      ]
    },
    {
      "cell_type": "markdown",
      "metadata": {
        "id": "Fc6LTYJ-fLL8"
      },
      "source": [
        "## SVD\n",
        "We decided to go with **SVD** for our matrix factorisation model, instead of SVD++ or NMF, because it struck the best balance between performance, interpretability, and computational efficiency. SVD breaks down the user-item rating matrix into latent features, revealing hidden relationships between users and movies. Since our dataset consists of explicit ratings, we did not need the added complexity of **SVD++**, which mainly benefits from implicit feedback. While SVD++ can improve recommendation quality by considering unrated interactions, its higher computational cost did not justify its use in our case.\n",
        "\n",
        "On the other hand, **NMF** was not the best fit for our project because it restricts all latent factors to be non-negative. This limitation makes it less flexible for capturing complex rating behaviours. While NMF is useful in cases where interpretability is a priority, it does not perform as well in collaborative filtering, where negative interactions are just as valuable as positive ones. Based on our results, NMF did not achieve a competitive RMSE, reinforcing our choice to exclude it.\n",
        "\n",
        "### Hyperparameter Optimisation\n",
        "To ensure SVD was optimised, we ran a grid search with 5-fold cross-validation, testing different configurations for latent factors, training epochs, learning rate, and regularisation strength.\n",
        "- n_factors: Controls the number of latent features learned by the model, essentially determining how much detail SVD captures about user-item interactions.\n",
        "- n_epochs: Represents the number of training iterations and influences how well the model converges.\n",
        "- lr_all: The learning rate affects how quickly the model updates its parameters during training.\n",
        "- reg_all: Controls the strength of regularisation, which prevents overfitting by discouraging large parameter values.\n"
      ]
    },
    {
      "cell_type": "code",
      "execution_count": null,
      "metadata": {
        "id": "ZPbAIxMmfLL_",
        "outputId": "90db93db-5868-4f23-9115-6b13537abead"
      },
      "outputs": [
        {
          "name": "stdout",
          "output_type": "stream",
          "text": [
            "\n",
            "--- Grid Search: SVD ---\n",
            "Best RMSE (SVD): 0.8343\n",
            "Best Parameters (SVD): {'n_factors': 50, 'n_epochs': 30, 'lr_all': 0.005, 'reg_all': 0.05}\n"
          ]
        }
      ],
      "source": [
        "print(\"\\n--- Grid Search: SVD ---\")\n",
        "\n",
        "# Define the parameter grid for tuning\n",
        "param_grid = {\n",
        "    'n_factors': [50, 75, 100],\n",
        "    'n_epochs': [20, 30],\n",
        "    'lr_all': [0.005, 0.0075],\n",
        "    'reg_all': [0.01, 0.02, 0.05]\n",
        "}\n",
        "\n",
        "# Perform grid search with 5-fold cross-validation\n",
        "gs_svd = GridSearchCV(SVD, param_grid, measures=['rmse'], cv=cv, n_jobs=-1)\n",
        "gs_svd.fit(data)  # Fit grid search to the dataset\n",
        "\n",
        "# Print best results\n",
        "print(\"Best RMSE (SVD):\", round(gs_svd.best_score['rmse'], 4))\n",
        "print(\"Best Parameters (SVD):\", gs_svd.best_params['rmse'])"
      ]
    },
    {
      "cell_type": "markdown",
      "metadata": {
        "id": "wYf8WBc2HB3O"
      },
      "source": [
        "After extensive testing, we identified the following best hyperparameter values, which significantly improved RMSE and stabilized training:\n",
        "\n",
        "- n_factors[50, 75, 100]: Our best result came with 50 factors, indicating that lower complexity prevented overfitting while still allowing meaningful pattern extraction. Higher values (100 or above) increased RMSE, suggesting that additional latent features introduced noise rather than useful signal.\n",
        "- n_epochs[20, 30]: 30 epochs produced the best RMSE, confirming that deeper training improved performance without excessive tuning. More epochs did not significantly improve accuracy, making 30 the optimal balance between training depth and generalization.\n",
        "- lr_all[0.005, 0.0075]: Lower learning rate (0.005) yielded the best RMSE, which indicate that gradual updates helped prevent suboptimal convergence. Also, higher learning rates led to fluctuations, showing that slower adjustments stabilized factor learning.\n",
        "- reg_all[0.01, 0.02, 0.05]: Best result came with reg_all = 0.05, confirming that stronger regularization helped limit overfitting while preserving meaningful factor relationships. Additionally, lower regularization values did not sufficiently constrain model complexity.\n",
        "\n",
        "To accelerate hyperparameter tuning, we leveraged n_jobs=-1 in GridSearchCV, enabling parallel processing across all available CPU cores. This significantly reduced computation time while maintaining search effectiveness.\n",
        "\n",
        "After training across various configurations, our final best-performing SVD model achieved an RMSE of 0.8343, confirming that lower complexity, stable training, and controlled learning rates were essential for optimizing performance.\n"
      ]
    },
    {
      "cell_type": "markdown",
      "metadata": {
        "id": "QyrCgkCWHB3O"
      },
      "source": [
        "Ultimately, our best SVD configuration achieved an RMSE of **0.8343**, demonstrating significant accuracy improvements over the baseline Normal Predictor while maintaining computational efficiency.\n"
      ]
    },
    {
      "cell_type": "markdown",
      "metadata": {
        "id": "g5efzP40APMZ"
      },
      "source": [
        "# STEP 12: FINAL EVALUATION"
      ]
    },
    {
      "cell_type": "markdown",
      "metadata": {
        "id": "cC82iTr3HB3P"
      },
      "source": [
        "Our evaluation of the recommender system models using RMSE provides valuable insights into their predictive performance and the trade-offs inherent in the modelling process.\n",
        "The Normal Predictor, with an RMSE of approximately 1.3, serves as a simple baseline that predicts ratings based on the global average, without accounting for any personalisation or item-specific information. Both **KNNWithMeans (RMSE 0.8783)** and **SVD (RMSE 0.8343)** significantly outperform this baseline, demonstrating that personalised approaches, whether based on neighbourhood similarities or latent factor decomposition, are more effective at capturing user preferences.\n",
        "\n",
        "While our filtering and normalisation steps improved model accuracy and evaluation robustness, each decision came with potential negative consequences that could have influenced our results:\n",
        "- During preprocessing, we applied user and item filtering to ensure a more balanced dataset for evaluating recommender models. One such step involved removing users who had rated an extremely large number of movies. While this helped mitigate biases in similarity-based models like KNN, it had a noticeable impact on SVD. SVD benefits from high-frequency users because their extensive rating patterns help define latent factors more effectively. These users contribute significantly to the learning process by capturing broad trends in user preferences. By filtering them out, we unintentionally reduced the amount of structured rating data available. This potentially weakened SVD's ability to generalise across different user behaviours.\n",
        "- Choice of similarity metric (Pearson baseline) and item-based filtering in KNNWithMeans helped the model focus on meaningful neighbourhoods, but biases and data sparsity can still affect neighbour selection and prediction stability.\n",
        "- Hyperparameter optimisation through grid search with 5-fold cross-validation ensured that both KNNWithMeans and SVD models were well-tuned for this dataset. Due to this, complexity and generalisation were balanced.\n",
        "- Normalisation and rating scale considerations potentially influenced the models' interpretation of user preferences, especially for matrix factorisation approaches that rely on consistent rating distributions.\n",
        "\n",
        "The SVD model’s superior performance indicates that latent factor methods are particularly well-suited for this dataset’s characteristics. Its ability to uncover hidden patterns in user-item interactions enables it to provide more accurate predictions than neighbourhood-based methods.\n",
        "\n",
        "In conclusion, while personalised recommendation models greatly outperform simple baselines, careful attention to data preprocessing and hyperparameter tuning is critical to unlock their full potential. Future work could explore incorporating implicit feedback (e.g., through SVD++), hybrid approaches combining multiple models, or deeper analysis of sparsity effects to further enhance recommendation quality."
      ]
    },
    {
      "cell_type": "markdown",
      "metadata": {
        "id": "SMOlNftzHB3Q"
      },
      "source": [
        "## 12.1: Models' RMSE Comparison"
      ]
    },
    {
      "cell_type": "code",
      "execution_count": null,
      "metadata": {
        "id": "BC7ICQbrHB3Q",
        "outputId": "d49e2228-a083-4534-fe1c-6fd4c79a3876"
      },
      "outputs": [
        {
          "name": "stderr",
          "output_type": "stream",
          "text": [
            "C:\\Users\\shari\\AppData\\Local\\Temp\\ipykernel_11528\\3537294524.py:30: UserWarning: set_ticklabels() should only be used with a fixed number of ticks, i.e. after set_ticks() or using a FixedLocator.\n",
            "  ax.set_xticklabels(names, rotation=45, ha=\"right\")\n"
          ]
        },
        {
          "data": {
            "image/png": "[encoded data removed]",
            "text/plain": [
              "<Figure size 1000x500 with 1 Axes>"
            ]
          },
          "metadata": {},
          "output_type": "display_data"
        }
      ],
      "source": [
        "best_rmse = {\n",
        "    \"NormalPredictor\": 1.299,\n",
        "    \"KNNWithMeans\": 0.8783,\n",
        "    \"KNNBaseline\": 0.9309,\n",
        "    \"KNNBasic\": 1.0280,\n",
        "    \"KNNWithZScore\": 0.8854,\n",
        "    \"SVD\": 0.8343,\n",
        "    \"SVDpp\": 0.8478,\n",
        "}\n",
        "\n",
        "# 1. Sort\n",
        "sorted_items = sorted(best_rmse.items(), key=lambda x: x[1])\n",
        "names = [x[0] for x in sorted_items]\n",
        "scores = [x[1] for x in sorted_items]\n",
        "best_score = min(scores)\n",
        "\n",
        "# 2. Colors\n",
        "colors = ['tab:blue' if name == 'SVD' else 'grey' for name in names]\n",
        "\n",
        "fig, ax = plt.subplots(figsize=(10, 5))\n",
        "bars = ax.bar(names, scores, color=colors)\n",
        "\n",
        "# 3. Expand the top of the y-axis so annotations fit\n",
        "top = max(scores) * 1.15 # 15% headroom\n",
        "ax.set_ylim(0, top)\n",
        "\n",
        "# 4. Labels & title\n",
        "ax.set_ylabel(\"RMSE\")\n",
        "ax.set_title(\"Comparison of Best RMSE by Model\\n(Highlighted: Best = SVD)\")\n",
        "ax.set_xticklabels(names, rotation=45, ha=\"right\")\n",
        "\n",
        "# 5. Annotate\n",
        "for bar, score in zip(bars, scores):\n",
        "    diff = score - best_score\n",
        "    label = f\"{score:.3f}\\n+{diff:.3f}\"\n",
        "    ax.annotate(\n",
        "        label,\n",
        "        xy=(bar.get_x() + bar.get_width()/2, score),\n",
        "        xytext=(0, 5),\n",
        "        textcoords=\"offset points\",\n",
        "        ha=\"center\", va=\"bottom\",\n",
        "        fontsize=9 if score == best_score else 8\n",
        "    )\n",
        "\n",
        "plt.tight_layout()\n",
        "plt.show()"
      ]
    },
    {
      "cell_type": "markdown",
      "metadata": {
        "id": "L5QpYh3sHB3Q"
      },
      "source": [
        "## STEP 13:  MODEL CODE REPOSITORY"
      ]
    },
    {
      "cell_type": "markdown",
      "metadata": {
        "id": "Gtipgn9BHB3R"
      },
      "source": [
        "### 13.1 SVD"
      ]
    },
    {
      "cell_type": "code",
      "execution_count": null,
      "metadata": {
        "id": "sMt-mXtqfLL8",
        "outputId": "d5007dfe-f8e0-448f-c149-937255da94e2"
      },
      "outputs": [
        {
          "name": "stdout",
          "output_type": "stream",
          "text": [
            "\n",
            "--- Grid Search: SVD ---\n",
            "Best RMSE (SVD): 0.8432\n",
            "Best Parameters (SVD): {'n_factors': 100, 'n_epochs': 30, 'lr_all': 0.005, 'reg_all': 0.05}\n"
          ]
        }
      ],
      "source": [
        "print(\"\\n--- Grid Search: SVD ---\")\n",
        "\n",
        "# Define the parameter grid for tuning\n",
        "param_grid = {\n",
        "    'n_factors': [100, 150, 200],  # Number of latent factors\n",
        "    'n_epochs': [20, 30, 50],  # Number of training iterations\n",
        "    'lr_all': [0.005, 0.01],  # Learning rate\n",
        "    'reg_all': [0.01, 0.02, 0.05]  # Regularization strength\n",
        "}\n",
        "\n",
        "# Perform grid search with 5-fold cross-validation\n",
        "gs_svd = GridSearchCV(SVD, param_grid, measures=['rmse'], cv=5, n_jobs=-1)\n",
        "gs_svd.fit(data_mf)  # Fit grid search to the dataset\n",
        "\n",
        "# Print best results\n",
        "print(\"Best RMSE (SVD):\", round(gs_svd.best_score['rmse'], 4))\n",
        "print(\"Best Parameters (SVD):\", gs_svd.best_params['rmse'])"
      ]
    },
    {
      "cell_type": "markdown",
      "metadata": {
        "id": "6K6eqQDQfLL_"
      },
      "source": [
        "--- Grid Search: SVD ---\n",
        "Best RMSE (SVD): 0.8435\n",
        "Best Parameters (SVD): {'n_factors': 100, 'n_epochs': 30, 'lr_all': 0.005, 'reg_all': 0.05}"
      ]
    },
    {
      "cell_type": "markdown",
      "metadata": {
        "id": "7_vOCknt_kqj",
        "jupyter": {
          "source_hidden": true
        }
      },
      "source": [
        "### 13.2 SVDpp (SVD Plus Plus)"
      ]
    },
    {
      "cell_type": "code",
      "execution_count": null,
      "metadata": {
        "collapsed": true,
        "id": "mvND3QznfLMA",
        "jupyter": {
          "outputs_hidden": true,
          "source_hidden": true
        },
        "outputId": "d44b5a05-3106-449b-c774-9491f10089db"
      },
      "outputs": [
        {
          "name": "stdout",
          "output_type": "stream",
          "text": [
            "\n",
            "--- Grid Search: SVDpp ---\n",
            "Best RMSE (SVDpp): 0.8478\n",
            "Best Parameters (SVDpp): {'n_factors': 100, 'n_epochs': 40, 'lr_all': 0.005, 'reg_all': 0.05}\n"
          ]
        }
      ],
      "source": [
        "# GRID SEARCH for SDVpp\n",
        "print(\"\\n--- Grid Search: SVDpp ---\")\n",
        "\n",
        "# Define the parameter grid\n",
        "param_grid = {\n",
        "    'n_factors': [100, 150],  # Number of latent factors\n",
        "    'n_epochs': [40, 50],  # Number of training epochs\n",
        "    'lr_all': [ 0.005, 0.01],  # Learning rate for all parameters\n",
        "    'reg_all': [0.02, 0.05]  # Regularization term for all parameters\n",
        "}\n",
        "\n",
        "# Perform grid search\n",
        "gs_svdpp = GridSearchCV(SVDpp, param_grid, measures=['rmse'], cv=5, n_jobs=-1)\n",
        "gs_svdpp.fit(data_mf)\n",
        "\n",
        "# Output best result\n",
        "print(\"Best RMSE (SVDpp):\", round(gs_svdpp.best_score['rmse'], 4))\n",
        "print(\"Best Parameters (SVDpp):\", gs_svdpp.best_params['rmse'])\n"
      ]
    },
    {
      "cell_type": "markdown",
      "metadata": {
        "id": "ZI3K6CDuHB3U"
      },
      "source": [
        "--- Grid Search: SVDpp ---\n",
        "Best RMSE (SVDpp): 0.8478\n",
        "Best Parameters (SVDpp): {'n_factors': 100, 'n_epochs': 40, 'lr_all': 0.005, 'reg_all': 0.05}"
      ]
    },
    {
      "cell_type": "markdown",
      "metadata": {
        "id": "OiwWsvarHB3U"
      },
      "source": [
        "### 13.3 KNNBaseline"
      ]
    },
    {
      "cell_type": "code",
      "execution_count": null,
      "metadata": {
        "collapsed": true,
        "id": "Uoo_l5YgfLMA",
        "jupyter": {
          "outputs_hidden": true,
          "source_hidden": true
        },
        "outputId": "66687005-0b46-479f-a98a-7db8d964e69b"
      },
      "outputs": [
        {
          "name": "stdout",
          "output_type": "stream",
          "text": [
            "\n",
            "--- Grid Search: KNNBaseline ---\n",
            "Estimating biases using als...\n",
            "Computing the pearson_baseline similarity matrix...\n",
            "Done computing similarity matrix.\n",
            "Estimating biases using als...\n",
            "Computing the pearson_baseline similarity matrix...\n",
            "Done computing similarity matrix.\n",
            "Estimating biases using als...\n",
            "Computing the pearson_baseline similarity matrix...\n",
            "Done computing similarity matrix.\n",
            "Estimating biases using als...\n",
            "Computing the pearson_baseline similarity matrix...\n",
            "Done computing similarity matrix.\n",
            "Estimating biases using als...\n",
            "Computing the pearson_baseline similarity matrix...\n",
            "Done computing similarity matrix.\n",
            "Estimating biases using als...\n",
            "Computing the pearson_baseline similarity matrix...\n",
            "Done computing similarity matrix.\n",
            "Estimating biases using als...\n",
            "Computing the pearson_baseline similarity matrix...\n",
            "Done computing similarity matrix.\n",
            "Estimating biases using als...\n",
            "Computing the pearson_baseline similarity matrix...\n",
            "Done computing similarity matrix.\n",
            "Estimating biases using als...\n",
            "Computing the pearson_baseline similarity matrix...\n",
            "Done computing similarity matrix.\n",
            "Estimating biases using als...\n",
            "Computing the pearson_baseline similarity matrix...\n",
            "Done computing similarity matrix.\n",
            "Estimating biases using als...\n",
            "Computing the pearson_baseline similarity matrix...\n",
            "Done computing similarity matrix.\n",
            "Estimating biases using als...\n",
            "Computing the pearson_baseline similarity matrix...\n",
            "Done computing similarity matrix.\n",
            "Estimating biases using als...\n",
            "Computing the pearson_baseline similarity matrix...\n",
            "Done computing similarity matrix.\n",
            "Estimating biases using als...\n",
            "Computing the pearson_baseline similarity matrix...\n",
            "Done computing similarity matrix.\n",
            "Estimating biases using als...\n",
            "Computing the pearson_baseline similarity matrix...\n",
            "Done computing similarity matrix.\n",
            "Best RMSE (KNNBaseline): 0.9309\n",
            "Best Parameters (KNNBaseline): {'k': 20, 'sim_options': {'name': 'pearson_baseline', 'user_based': False}}\n"
          ]
        }
      ],
      "source": [
        "print(\"\\n--- Grid Search: KNNBaseline ---\")\n",
        "\n",
        "# Define the parameter grid for tuning\n",
        "param_grid = {\n",
        "    'k': [20, 30, 40],  # Number of neighbors\n",
        "    'min_k': [3, 5],\n",
        "    'sim_options': {\n",
        "        'name': ['pearson_baseline'],  # Similarity metrics\n",
        "        'user_based': [False]\n",
        "    }\n",
        "}\n",
        "\n",
        "# Perform grid search with 5-fold cross-validation\n",
        "gs_knn_baseline = GridSearchCV(KNNBaseline, param_grid, measures=['rmse'], cv=5, n_jobs=1)\n",
        "gs_knn_baseline.fit(data_knn)  # Fit grid search to the dataset\n",
        "\n",
        "# Print best results\n",
        "print(\"Best RMSE (KNNBaseline):\", round(gs_knn_baseline.best_score['rmse'], 4))\n",
        "print(\"Best Parameters (KNNBaseline):\", gs_knn_baseline.best_params['rmse'])\n"
      ]
    },
    {
      "cell_type": "markdown",
      "metadata": {
        "id": "DfdkDWH2HB3V"
      },
      "source": [
        "Best RMSE (KNNBaseline): 0.9309\n",
        "Best Parameters (KNNBaseline): {'k': 20, 'sim_options': {'name': 'pearson_baseline', 'user_based': False}}"
      ]
    },
    {
      "cell_type": "markdown",
      "metadata": {
        "id": "ZDJ0KMbEfLMB",
        "jupyter": {
          "source_hidden": true
        }
      },
      "source": [
        "### 13.4 KNNBasic"
      ]
    },
    {
      "cell_type": "code",
      "execution_count": null,
      "metadata": {
        "id": "ZLTxBWYefLMB",
        "jupyter": {
          "source_hidden": true
        },
        "outputId": "ee4515e1-9dde-43fb-9be0-217da64edff9",
        "scrolled": true
      },
      "outputs": [
        {
          "name": "stdout",
          "output_type": "stream",
          "text": [
            "\n",
            "--- Grid Search: KNNBasic ---\n",
            "Estimating biases using als...\n",
            "Computing the pearson_baseline similarity matrix...\n",
            "Done computing similarity matrix.\n",
            "Estimating biases using als...\n",
            "Computing the pearson_baseline similarity matrix...\n",
            "Done computing similarity matrix.\n",
            "Estimating biases using als...\n",
            "Computing the pearson_baseline similarity matrix...\n",
            "Done computing similarity matrix.\n",
            "Estimating biases using als...\n",
            "Computing the pearson_baseline similarity matrix...\n",
            "Done computing similarity matrix.\n",
            "Estimating biases using als...\n",
            "Computing the pearson_baseline similarity matrix...\n",
            "Done computing similarity matrix.\n",
            "Estimating biases using als...\n",
            "Computing the pearson_baseline similarity matrix...\n",
            "Done computing similarity matrix.\n",
            "Estimating biases using als...\n",
            "Computing the pearson_baseline similarity matrix...\n",
            "Done computing similarity matrix.\n",
            "Estimating biases using als...\n",
            "Computing the pearson_baseline similarity matrix...\n",
            "Done computing similarity matrix.\n",
            "Estimating biases using als...\n",
            "Computing the pearson_baseline similarity matrix...\n",
            "Done computing similarity matrix.\n",
            "Estimating biases using als...\n",
            "Computing the pearson_baseline similarity matrix...\n",
            "Done computing similarity matrix.\n",
            "Estimating biases using als...\n",
            "Computing the pearson_baseline similarity matrix...\n",
            "Done computing similarity matrix.\n",
            "Estimating biases using als...\n",
            "Computing the pearson_baseline similarity matrix...\n",
            "Done computing similarity matrix.\n",
            "Estimating biases using als...\n",
            "Computing the pearson_baseline similarity matrix...\n",
            "Done computing similarity matrix.\n",
            "Estimating biases using als...\n",
            "Computing the pearson_baseline similarity matrix...\n",
            "Done computing similarity matrix.\n",
            "Estimating biases using als...\n",
            "Computing the pearson_baseline similarity matrix...\n",
            "Done computing similarity matrix.\n",
            "Best RMSE (KNNBasic): 1.028\n",
            "Best Parameters (KNNBasic): {'k': 20, 'sim_options': {'name': 'pearson_baseline', 'user_based': False}}\n"
          ]
        }
      ],
      "source": [
        "print(\"\\n--- Grid Search: KNNBasic ---\")\n",
        "\n",
        "# Define the parameter grid for tuning\n",
        "param_grid = {\n",
        "    'k': [20, 30, 40],  # Number of neighbors\n",
        "    'sim_options': {\n",
        "        'name': ['pearson_baseline'],  # Similarity metrics\n",
        "        'user_based': [False]\n",
        "    }\n",
        "}\n",
        "\n",
        "# Perform grid search with 5-fold cross-validation\n",
        "gs_knn_basic = GridSearchCV(KNNBasic, param_grid, measures=['rmse'], cv=5, n_jobs=1)\n",
        "gs_knn_basic.fit(data_knn)  # Fit grid search to the dataset\n",
        "\n",
        "# Print best results\n",
        "print(\"Best RMSE (KNNBasic):\", round(gs_knn_basic.best_score['rmse'], 4))\n",
        "print(\"Best Parameters (KNNBasic):\", gs_knn_basic.best_params['rmse'])\n"
      ]
    },
    {
      "cell_type": "markdown",
      "metadata": {
        "id": "nr9xM8HuHB3X"
      },
      "source": [
        "Best RMSE (KNNBasic): 1.028\n",
        "Best Parameters (KNNBasic): {'k': 20, 'sim_options': {'name': 'pearson_baseline', 'user_based': False}}"
      ]
    },
    {
      "cell_type": "markdown",
      "metadata": {
        "id": "IwOwj6OQ9hD3"
      },
      "source": [
        "### 13.5 KNNWithZScore"
      ]
    },
    {
      "cell_type": "code",
      "execution_count": null,
      "metadata": {
        "colab": {
          "base_uri": "https://localhost:8080/"
        },
        "id": "-NDzc8H89egj",
        "outputId": "54f2fb2d-2253-4a91-aef0-2b1261332f74",
        "scrolled": true
      },
      "outputs": [
        {
          "name": "stdout",
          "output_type": "stream",
          "text": [
            "\n",
            "--- Grid Search: KNNWithZScore ---\n",
            "Estimating biases using als...\n",
            "Computing the pearson_baseline similarity matrix...\n",
            "Done computing similarity matrix.\n",
            "Estimating biases using als...\n",
            "Computing the pearson_baseline similarity matrix...\n",
            "Done computing similarity matrix.\n",
            "Estimating biases using als...\n",
            "Computing the pearson_baseline similarity matrix...\n",
            "Done computing similarity matrix.\n",
            "Estimating biases using als...\n",
            "Computing the pearson_baseline similarity matrix...\n",
            "Done computing similarity matrix.\n",
            "Estimating biases using als...\n",
            "Computing the pearson_baseline similarity matrix...\n",
            "Done computing similarity matrix.\n",
            "Estimating biases using als...\n",
            "Computing the pearson_baseline similarity matrix...\n",
            "Done computing similarity matrix.\n",
            "Estimating biases using als...\n",
            "Computing the pearson_baseline similarity matrix...\n",
            "Done computing similarity matrix.\n",
            "Estimating biases using als...\n",
            "Computing the pearson_baseline similarity matrix...\n",
            "Done computing similarity matrix.\n",
            "Estimating biases using als...\n",
            "Computing the pearson_baseline similarity matrix...\n",
            "Done computing similarity matrix.\n",
            "Estimating biases using als...\n",
            "Computing the pearson_baseline similarity matrix...\n",
            "Done computing similarity matrix.\n",
            "Estimating biases using als...\n",
            "Computing the pearson_baseline similarity matrix...\n",
            "Done computing similarity matrix.\n",
            "Estimating biases using als...\n",
            "Computing the pearson_baseline similarity matrix...\n",
            "Done computing similarity matrix.\n",
            "Estimating biases using als...\n",
            "Computing the pearson_baseline similarity matrix...\n",
            "Done computing similarity matrix.\n",
            "Estimating biases using als...\n",
            "Computing the pearson_baseline similarity matrix...\n",
            "Done computing similarity matrix.\n",
            "Estimating biases using als...\n",
            "Computing the pearson_baseline similarity matrix...\n",
            "Done computing similarity matrix.\n",
            "Estimating biases using als...\n",
            "Computing the pearson_baseline similarity matrix...\n",
            "Done computing similarity matrix.\n",
            "Estimating biases using als...\n",
            "Computing the pearson_baseline similarity matrix...\n",
            "Done computing similarity matrix.\n",
            "Estimating biases using als...\n",
            "Computing the pearson_baseline similarity matrix...\n",
            "Done computing similarity matrix.\n",
            "Estimating biases using als...\n",
            "Computing the pearson_baseline similarity matrix...\n",
            "Done computing similarity matrix.\n",
            "Estimating biases using als...\n",
            "Computing the pearson_baseline similarity matrix...\n",
            "Done computing similarity matrix.\n",
            "Estimating biases using als...\n",
            "Computing the pearson_baseline similarity matrix...\n",
            "Done computing similarity matrix.\n",
            "Estimating biases using als...\n",
            "Computing the pearson_baseline similarity matrix...\n",
            "Done computing similarity matrix.\n",
            "Estimating biases using als...\n",
            "Computing the pearson_baseline similarity matrix...\n",
            "Done computing similarity matrix.\n",
            "Estimating biases using als...\n",
            "Computing the pearson_baseline similarity matrix...\n",
            "Done computing similarity matrix.\n",
            "Estimating biases using als...\n",
            "Computing the pearson_baseline similarity matrix...\n",
            "Done computing similarity matrix.\n",
            "Estimating biases using als...\n",
            "Computing the pearson_baseline similarity matrix...\n",
            "Done computing similarity matrix.\n",
            "Estimating biases using als...\n",
            "Computing the pearson_baseline similarity matrix...\n",
            "Done computing similarity matrix.\n",
            "Estimating biases using als...\n",
            "Computing the pearson_baseline similarity matrix...\n",
            "Done computing similarity matrix.\n",
            "Estimating biases using als...\n",
            "Computing the pearson_baseline similarity matrix...\n",
            "Done computing similarity matrix.\n",
            "Estimating biases using als...\n",
            "Computing the pearson_baseline similarity matrix...\n",
            "Done computing similarity matrix.\n",
            "Best RMSE (KNNWithZScore): 0.8854\n",
            "Best Parameters (KNNWithZScore): {'k': 10, 'min_k': 5, 'sim_options': {'name': 'pearson_baseline', 'user_based': False}}\n"
          ]
        }
      ],
      "source": [
        "# GRID SEARCH for KNNWithZScore\n",
        "print(\"\\n--- Grid Search: KNNWithZScore ---\")\n",
        "\n",
        "# Define the parameter grid for tuning; we are testing different values of:\n",
        "# - 'k': the number of neighbours to consider\n",
        "# - 'min_k': the minimum number of neighbours required to make a prediction\n",
        "# - 'sim_options': similarity measures and whether to use user-based or item-based collaborative filtering\n",
        "\n",
        "param_grid = {\n",
        "    'k': [10, 20, 30],\n",
        "    'min_k': [3, 5],\n",
        "    'sim_options': {\n",
        "        'name': ['pearson_baseline'],\n",
        "        'user_based': [False]  # Use item-based filtering (NOTE: we can also try True for user-based later, but it crashed everytime)\n",
        "    }\n",
        "}\n",
        "\n",
        "# Perform grid search with 5-fold cross-validation\n",
        "# Trains the model with every combination of parameters and evaluate them using RMSE\n",
        "gs_knn = GridSearchCV(KNNWithZScore, param_grid, measures=['rmse'], cv=5, n_jobs=1)\n",
        "gs_knn.fit(data)  # Fit the grid search to our Surprise dataset\n",
        "\n",
        "# Print the best RMSE achieved and the corresponding parameter combination\n",
        "# Helps with choosing the most effective settings for our KNNWithZScore model\n",
        "print(\"Best RMSE (KNNWithZScore):\", round(gs_knn.best_score['rmse'], 4))\n",
        "print(\"Best Parameters (KNNWithZScore):\", gs_knn.best_params['rmse'])\n"
      ]
    },
    {
      "cell_type": "markdown",
      "metadata": {
        "id": "kv62v0SkHB3Z"
      },
      "source": [
        "Best RMSE (KNNWithZScore): 0.8843\n",
        "Best Parameters (KNNWithZScore): {'k': 20, 'min_k': 5, 'sim_options': {'name': 'pearson_baseline', 'user_based': False}}"
      ]
    },
    {
      "cell_type": "markdown",
      "metadata": {
        "id": "mhyePhX5HB3Z"
      },
      "source": [
        "### 13.6 KNNWithMeans"
      ]
    },
    {
      "cell_type": "code",
      "execution_count": null,
      "metadata": {
        "id": "ApOAOb-zHB3a",
        "outputId": "591ae89a-8037-4df2-b116-3bbcdc8a9ba4"
      },
      "outputs": [
        {
          "name": "stdout",
          "output_type": "stream",
          "text": [
            "\n",
            "--- Grid Search: KNNWithMeans ---\n",
            "Computing the pearson similarity matrix...\n",
            "Done computing similarity matrix.\n",
            "Computing the pearson similarity matrix...\n",
            "Done computing similarity matrix.\n",
            "Computing the pearson similarity matrix...\n",
            "Done computing similarity matrix.\n",
            "Computing the pearson similarity matrix...\n",
            "Done computing similarity matrix.\n",
            "Computing the pearson similarity matrix...\n",
            "Done computing similarity matrix.\n",
            "Estimating biases using als...\n",
            "Computing the pearson_baseline similarity matrix...\n",
            "Done computing similarity matrix.\n",
            "Estimating biases using als...\n",
            "Computing the pearson_baseline similarity matrix...\n",
            "Done computing similarity matrix.\n",
            "Estimating biases using als...\n",
            "Computing the pearson_baseline similarity matrix...\n",
            "Done computing similarity matrix.\n",
            "Estimating biases using als...\n",
            "Computing the pearson_baseline similarity matrix...\n",
            "Done computing similarity matrix.\n",
            "Estimating biases using als...\n",
            "Computing the pearson_baseline similarity matrix...\n",
            "Done computing similarity matrix.\n",
            "Computing the pearson similarity matrix...\n",
            "Done computing similarity matrix.\n",
            "Computing the pearson similarity matrix...\n",
            "Done computing similarity matrix.\n",
            "Computing the pearson similarity matrix...\n",
            "Done computing similarity matrix.\n",
            "Computing the pearson similarity matrix...\n",
            "Done computing similarity matrix.\n",
            "Computing the pearson similarity matrix...\n",
            "Done computing similarity matrix.\n",
            "Estimating biases using als...\n",
            "Computing the pearson_baseline similarity matrix...\n",
            "Done computing similarity matrix.\n",
            "Estimating biases using als...\n",
            "Computing the pearson_baseline similarity matrix...\n",
            "Done computing similarity matrix.\n",
            "Estimating biases using als...\n",
            "Computing the pearson_baseline similarity matrix...\n",
            "Done computing similarity matrix.\n",
            "Estimating biases using als...\n",
            "Computing the pearson_baseline similarity matrix...\n",
            "Done computing similarity matrix.\n",
            "Estimating biases using als...\n",
            "Computing the pearson_baseline similarity matrix...\n",
            "Done computing similarity matrix.\n",
            "Computing the pearson similarity matrix...\n",
            "Done computing similarity matrix.\n",
            "Computing the pearson similarity matrix...\n",
            "Done computing similarity matrix.\n",
            "Computing the pearson similarity matrix...\n",
            "Done computing similarity matrix.\n",
            "Computing the pearson similarity matrix...\n",
            "Done computing similarity matrix.\n",
            "Computing the pearson similarity matrix...\n",
            "Done computing similarity matrix.\n",
            "Estimating biases using als...\n",
            "Computing the pearson_baseline similarity matrix...\n",
            "Done computing similarity matrix.\n",
            "Estimating biases using als...\n",
            "Computing the pearson_baseline similarity matrix...\n",
            "Done computing similarity matrix.\n",
            "Estimating biases using als...\n",
            "Computing the pearson_baseline similarity matrix...\n",
            "Done computing similarity matrix.\n",
            "Estimating biases using als...\n",
            "Computing the pearson_baseline similarity matrix...\n",
            "Done computing similarity matrix.\n",
            "Estimating biases using als...\n",
            "Computing the pearson_baseline similarity matrix...\n",
            "Done computing similarity matrix.\n",
            "Computing the pearson similarity matrix...\n",
            "Done computing similarity matrix.\n",
            "Computing the pearson similarity matrix...\n",
            "Done computing similarity matrix.\n",
            "Computing the pearson similarity matrix...\n",
            "Done computing similarity matrix.\n",
            "Computing the pearson similarity matrix...\n",
            "Done computing similarity matrix.\n",
            "Computing the pearson similarity matrix...\n",
            "Done computing similarity matrix.\n",
            "Estimating biases using als...\n",
            "Computing the pearson_baseline similarity matrix...\n",
            "Done computing similarity matrix.\n",
            "Estimating biases using als...\n",
            "Computing the pearson_baseline similarity matrix...\n",
            "Done computing similarity matrix.\n",
            "Estimating biases using als...\n",
            "Computing the pearson_baseline similarity matrix...\n",
            "Done computing similarity matrix.\n",
            "Estimating biases using als...\n",
            "Computing the pearson_baseline similarity matrix...\n",
            "Done computing similarity matrix.\n",
            "Estimating biases using als...\n",
            "Computing the pearson_baseline similarity matrix...\n",
            "Done computing similarity matrix.\n",
            "Computing the pearson similarity matrix...\n",
            "Done computing similarity matrix.\n",
            "Computing the pearson similarity matrix...\n",
            "Done computing similarity matrix.\n",
            "Computing the pearson similarity matrix...\n",
            "Done computing similarity matrix.\n",
            "Computing the pearson similarity matrix...\n",
            "Done computing similarity matrix.\n",
            "Computing the pearson similarity matrix...\n",
            "Done computing similarity matrix.\n",
            "Estimating biases using als...\n",
            "Computing the pearson_baseline similarity matrix...\n",
            "Done computing similarity matrix.\n"
          ]
        },
        {
          "ename": "KeyboardInterrupt",
          "evalue": "",
          "output_type": "error",
          "traceback": [
            "\u001b[0;31m---------------------------------------------------------------------------\u001b[0m",
            "\u001b[0;31mKeyboardInterrupt\u001b[0m                         Traceback (most recent call last)",
            "Cell \u001b[0;32mIn[31], line 15\u001b[0m\n\u001b[1;32m     13\u001b[0m \u001b[38;5;66;03m# Perform grid search with 5-fold cross-validation\u001b[39;00m\n\u001b[1;32m     14\u001b[0m gs_knn_means \u001b[38;5;241m=\u001b[39m GridSearchCV(KNNWithMeans, param_grid, measures\u001b[38;5;241m=\u001b[39m[\u001b[38;5;124m'\u001b[39m\u001b[38;5;124mrmse\u001b[39m\u001b[38;5;124m'\u001b[39m], cv\u001b[38;5;241m=\u001b[39m\u001b[38;5;241m5\u001b[39m, n_jobs\u001b[38;5;241m=\u001b[39m\u001b[38;5;241m1\u001b[39m)\n\u001b[0;32m---> 15\u001b[0m gs_knn_means\u001b[38;5;241m.\u001b[39mfit(data_knn)  \u001b[38;5;66;03m# Fit grid search to the dataset\u001b[39;00m\n\u001b[1;32m     17\u001b[0m \u001b[38;5;66;03m# Print best results\u001b[39;00m\n\u001b[1;32m     18\u001b[0m \u001b[38;5;28mprint\u001b[39m(\u001b[38;5;124m\"\u001b[39m\u001b[38;5;124mBest RMSE (KNNWithMeans):\u001b[39m\u001b[38;5;124m\"\u001b[39m, \u001b[38;5;28mround\u001b[39m(gs_knn_means\u001b[38;5;241m.\u001b[39mbest_score[\u001b[38;5;124m'\u001b[39m\u001b[38;5;124mrmse\u001b[39m\u001b[38;5;124m'\u001b[39m], \u001b[38;5;241m4\u001b[39m))\n",
            "File \u001b[0;32m/opt/anaconda3/lib/python3.12/site-packages/surprise/model_selection/search.py:104\u001b[0m, in \u001b[0;36mBaseSearchCV.fit\u001b[0;34m(self, data)\u001b[0m\n\u001b[1;32m     90\u001b[0m cv \u001b[38;5;241m=\u001b[39m get_cv(\u001b[38;5;28mself\u001b[39m\u001b[38;5;241m.\u001b[39mcv)\n\u001b[1;32m     92\u001b[0m delayed_list \u001b[38;5;241m=\u001b[39m (\n\u001b[1;32m     93\u001b[0m     delayed(fit_and_score)(\n\u001b[1;32m     94\u001b[0m         \u001b[38;5;28mself\u001b[39m\u001b[38;5;241m.\u001b[39malgo_class(\u001b[38;5;241m*\u001b[39m\u001b[38;5;241m*\u001b[39mparams),\n\u001b[0;32m   (...)\u001b[0m\n\u001b[1;32m    102\u001b[0m     )\n\u001b[1;32m    103\u001b[0m )\n\u001b[0;32m--> 104\u001b[0m out \u001b[38;5;241m=\u001b[39m Parallel(\n\u001b[1;32m    105\u001b[0m     n_jobs\u001b[38;5;241m=\u001b[39m\u001b[38;5;28mself\u001b[39m\u001b[38;5;241m.\u001b[39mn_jobs,\n\u001b[1;32m    106\u001b[0m     pre_dispatch\u001b[38;5;241m=\u001b[39m\u001b[38;5;28mself\u001b[39m\u001b[38;5;241m.\u001b[39mpre_dispatch,\n\u001b[1;32m    107\u001b[0m     verbose\u001b[38;5;241m=\u001b[39m\u001b[38;5;28mself\u001b[39m\u001b[38;5;241m.\u001b[39mjoblib_verbose,\n\u001b[1;32m    108\u001b[0m )(delayed_list)\n\u001b[1;32m    110\u001b[0m (test_measures_dicts, train_measures_dicts, fit_times, test_times) \u001b[38;5;241m=\u001b[39m \u001b[38;5;28mzip\u001b[39m(\u001b[38;5;241m*\u001b[39mout)\n\u001b[1;32m    112\u001b[0m \u001b[38;5;66;03m# test_measures_dicts is a list of dict like this:\u001b[39;00m\n\u001b[1;32m    113\u001b[0m \u001b[38;5;66;03m# [{'mae': 1, 'rmse': 2}, {'mae': 2, 'rmse': 3} ...]\u001b[39;00m\n\u001b[1;32m    114\u001b[0m \u001b[38;5;66;03m# E.g. for 5 splits, the first 5 dicts are for the first param\u001b[39;00m\n\u001b[0;32m   (...)\u001b[0m\n\u001b[1;32m    121\u001b[0m \u001b[38;5;66;03m# (n_parameters_combinations, n_splits). This way we can easily compute\u001b[39;00m\n\u001b[1;32m    122\u001b[0m \u001b[38;5;66;03m# the mean and std dev over all splits or over all param comb.\u001b[39;00m\n",
            "File \u001b[0;32m/opt/anaconda3/lib/python3.12/site-packages/joblib/parallel.py:1918\u001b[0m, in \u001b[0;36mParallel.__call__\u001b[0;34m(self, iterable)\u001b[0m\n\u001b[1;32m   1916\u001b[0m     output \u001b[38;5;241m=\u001b[39m \u001b[38;5;28mself\u001b[39m\u001b[38;5;241m.\u001b[39m_get_sequential_output(iterable)\n\u001b[1;32m   1917\u001b[0m     \u001b[38;5;28mnext\u001b[39m(output)\n\u001b[0;32m-> 1918\u001b[0m     \u001b[38;5;28;01mreturn\u001b[39;00m output \u001b[38;5;28;01mif\u001b[39;00m \u001b[38;5;28mself\u001b[39m\u001b[38;5;241m.\u001b[39mreturn_generator \u001b[38;5;28;01melse\u001b[39;00m \u001b[38;5;28mlist\u001b[39m(output)\n\u001b[1;32m   1920\u001b[0m \u001b[38;5;66;03m# Let's create an ID that uniquely identifies the current call. If the\u001b[39;00m\n\u001b[1;32m   1921\u001b[0m \u001b[38;5;66;03m# call is interrupted early and that the same instance is immediately\u001b[39;00m\n\u001b[1;32m   1922\u001b[0m \u001b[38;5;66;03m# re-used, this id will be used to prevent workers that were\u001b[39;00m\n\u001b[1;32m   1923\u001b[0m \u001b[38;5;66;03m# concurrently finalizing a task from the previous call to run the\u001b[39;00m\n\u001b[1;32m   1924\u001b[0m \u001b[38;5;66;03m# callback.\u001b[39;00m\n\u001b[1;32m   1925\u001b[0m \u001b[38;5;28;01mwith\u001b[39;00m \u001b[38;5;28mself\u001b[39m\u001b[38;5;241m.\u001b[39m_lock:\n",
            "File \u001b[0;32m/opt/anaconda3/lib/python3.12/site-packages/joblib/parallel.py:1849\u001b[0m, in \u001b[0;36mParallel._get_sequential_output\u001b[0;34m(self, iterable)\u001b[0m\n\u001b[1;32m   1847\u001b[0m res \u001b[38;5;241m=\u001b[39m func(\u001b[38;5;241m*\u001b[39margs, \u001b[38;5;241m*\u001b[39m\u001b[38;5;241m*\u001b[39mkwargs)\n\u001b[1;32m   1848\u001b[0m \u001b[38;5;28mself\u001b[39m\u001b[38;5;241m.\u001b[39mn_completed_tasks \u001b[38;5;241m+\u001b[39m\u001b[38;5;241m=\u001b[39m \u001b[38;5;241m1\u001b[39m\n\u001b[0;32m-> 1849\u001b[0m \u001b[38;5;28mself\u001b[39m\u001b[38;5;241m.\u001b[39mprint_progress()\n\u001b[1;32m   1850\u001b[0m \u001b[38;5;28;01myield\u001b[39;00m res\n\u001b[1;32m   1851\u001b[0m \u001b[38;5;28mself\u001b[39m\u001b[38;5;241m.\u001b[39m_nb_consumed \u001b[38;5;241m+\u001b[39m\u001b[38;5;241m=\u001b[39m \u001b[38;5;241m1\u001b[39m\n",
            "File \u001b[0;32m/opt/anaconda3/lib/python3.12/site-packages/joblib/parallel.py:1546\u001b[0m, in \u001b[0;36mParallel.print_progress\u001b[0;34m(self)\u001b[0m\n\u001b[1;32m   1541\u001b[0m \u001b[38;5;250m    \u001b[39m\u001b[38;5;124;03m\"\"\"Check if all tasks have been completed\"\"\"\u001b[39;00m\n\u001b[1;32m   1542\u001b[0m     \u001b[38;5;28;01mreturn\u001b[39;00m \u001b[38;5;28mself\u001b[39m\u001b[38;5;241m.\u001b[39mn_completed_tasks \u001b[38;5;241m==\u001b[39m \u001b[38;5;28mself\u001b[39m\u001b[38;5;241m.\u001b[39mn_dispatched_tasks \u001b[38;5;129;01mand\u001b[39;00m \u001b[38;5;129;01mnot\u001b[39;00m (\n\u001b[1;32m   1543\u001b[0m         \u001b[38;5;28mself\u001b[39m\u001b[38;5;241m.\u001b[39m_iterating \u001b[38;5;129;01mor\u001b[39;00m \u001b[38;5;28mself\u001b[39m\u001b[38;5;241m.\u001b[39m_aborting\n\u001b[1;32m   1544\u001b[0m     )\n\u001b[0;32m-> 1546\u001b[0m \u001b[38;5;28;01mdef\u001b[39;00m \u001b[38;5;21mprint_progress\u001b[39m(\u001b[38;5;28mself\u001b[39m):\n\u001b[1;32m   1547\u001b[0m \u001b[38;5;250m    \u001b[39m\u001b[38;5;124;03m\"\"\"Display the process of the parallel execution only a fraction\u001b[39;00m\n\u001b[1;32m   1548\u001b[0m \u001b[38;5;124;03m       of time, controlled by self.verbose.\u001b[39;00m\n\u001b[1;32m   1549\u001b[0m \u001b[38;5;124;03m    \"\"\"\u001b[39;00m\n\u001b[1;32m   1551\u001b[0m     \u001b[38;5;28;01mif\u001b[39;00m \u001b[38;5;129;01mnot\u001b[39;00m \u001b[38;5;28mself\u001b[39m\u001b[38;5;241m.\u001b[39mverbose:\n",
            "\u001b[0;31mKeyboardInterrupt\u001b[0m: "
          ]
        }
      ],
      "source": [
        "print(\"\\n--- Grid Search: KNNWithMeans ---\")\n",
        "\n",
        "# Define the parameter grid for tuning\n",
        "param_grid = {\n",
        "    'k': [20, 30, 40],# Number of neighbors\n",
        "    'min_k': [3, 5, 8],\n",
        "    'sim_options': {\n",
        "        'name': ['pearson', 'pearson_baseline'],  # Similarity metrics\n",
        "        'user_based': [False]  # Use item-based filtering (Set to True for user-based)\n",
        "    }\n",
        "}\n",
        "\n",
        "# Perform grid search with 5-fold cross-validation\n",
        "gs_knn_means = GridSearchCV(KNNWithMeans, param_grid, measures=['rmse'], cv=5, n_jobs=1)\n",
        "gs_knn_means.fit(data_knn)  # Fit grid search to the dataset\n",
        "\n",
        "# Print best results\n",
        "print(\"Best RMSE (KNNWithMeans):\", round(gs_knn_means.best_score['rmse'], 4))\n",
        "print(\"Best Parameters (KNNWithMeans):\", gs_knn_means.best_params['rmse'])"
      ]
    },
    {
      "cell_type": "markdown",
      "metadata": {
        "id": "ZysIvannHB3a"
      },
      "source": [
        "Best RMSE (KNNWithMeans): 0.8852\n",
        "Best Parameters (KNNWithMeans): {'k': 20, 'min_k': 5, 'sim_options': {'name': 'pearson_baseline', 'user_based': False}}"
      ]
    },
    {
      "cell_type": "markdown",
      "metadata": {
        "id": "hGVZRyAAfLL5"
      },
      "source": [
        "## 6.2 Baseline for Matrix Factorisation"
      ]
    },
    {
      "cell_type": "code",
      "execution_count": null,
      "metadata": {
        "id": "oEKcU5JBHB3b",
        "outputId": "22607ef9-c7dd-4ec6-8542-778db15c26ab"
      },
      "outputs": [
        {
          "name": "stdout",
          "output_type": "stream",
          "text": [
            "\n",
            "---Baseline Model: NormalPredictor ---\n",
            "Evaluating RMSE of algorithm NormalPredictor on 5 split(s).\n",
            "\n",
            "                  Fold 1  Fold 2  Fold 3  Fold 4  Fold 5  Mean    Std     \n",
            "RMSE (testset)    1.2960  1.2963  1.2998  1.2986  1.2985  1.2979  0.0015  \n",
            "Fit time          0.30    0.33    0.38    0.35    0.31    0.33    0.03    \n",
            "Test time         0.69    0.72    0.73    0.60    0.65    0.68    0.05    \n",
            "\n",
            "Average RMSE (Baseline): 1.2979\n"
          ]
        }
      ],
      "source": [
        "# Define the rating scale and prepare the dataset for Surprise\n",
        "# Here, we use the min-max normalised ratings dataframe 'df_min_max'\n",
        "# Surprise expects a DataFrame with columns: userId, itemId (movieId), rating\n",
        "reader = Reader(rating_scale=(0.5, 5.0))\n",
        "data_mf = Dataset.load_from_df(df_min_max[['userId', 'movieId', 'rating']], reader)\n",
        "\n",
        "# Reuse the 5-fold cross-validation setup with shuffle and fixed random seed\n",
        "cv = KFold(n_splits=5, random_state=42, shuffle=True)\n",
        "\n",
        "# Initialize the baseline model: NormalPredictor\n",
        "# This model ignores user/item features and predicts random ratings based on training distribution\n",
        "print(\"\\n---Baseline Model: NormalPredictor ---\")\n",
        "baseline_model = NormalPredictor()\n",
        "\n",
        "# Evaluate the baseline model using cross-validation, measuring RMSE\n",
        "baseline_results = cross_validate(\n",
        "    baseline_model,     # Model to evaluate\n",
        "    data_mf,            # Dataset with normalized ratings\n",
        "    measures=['RMSE'],  # Evaluation metric\n",
        "    cv=cv,              # Cross-validation scheme\n",
        "    verbose=True,       # Display progress and fold results\n",
        "    n_jobs=-1           # Use all CPU cores for faster computation\n",
        ")\n",
        "\n",
        "# Calculate and print the average RMSE across all 5 folds\n",
        "mean_rmse = round(baseline_results['test_rmse'].mean(), 4)\n",
        "print(f\"\\nAverage RMSE (Baseline): {mean_rmse}\")\n"
      ]
    },
    {
      "cell_type": "markdown",
      "metadata": {
        "id": "iVoguvjnHB3c"
      },
      "source": [
        "The baseline model using NormalPredictor achieved an average RMSE of approximately 1.2998 across five cross-validation folds. Since this model predicts ratings randomly based on the overall distribution of the training data, it does not use any information about users or movies. The RMSE value acts as a benchmark, indicating the error level of a naive prediction approach.\n",
        "\n",
        "Small differences in RMSE between runs are expected due to the randomness in predictions and data splits, but overall, this baseline provides a reference point to evaluate the effectiveness of more advanced models. More advanced models should aim to achieve a lower RMSE than this baseline to prove they are better at predicting ratings."
      ]
    }
  ],
  "metadata": {
    "colab": {
      "provenance": [],
      "toc_visible": true
    },
    "kernelspec": {
      "display_name": "Python 3 (ipykernel)",
      "language": "python",
      "name": "python3"
    },
    "language_info": {
      "codemirror_mode": {
        "name": "ipython",
        "version": 3
      },
      "file_extension": ".py",
      "mimetype": "text/x-python",
      "name": "python",
      "nbconvert_exporter": "python",
      "pygments_lexer": "ipython3",
      "version": "3.12.7"
    }
  },
  "nbformat": 4,
  "nbformat_minor": 0
}
